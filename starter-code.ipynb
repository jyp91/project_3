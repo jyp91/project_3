{
 "cells": [
  {
   "cell_type": "markdown",
   "metadata": {},
   "source": [
    "# Project 3: Web Scraping for Reddit & Predicting User Engagement \n",
    "\n",
    "_By: Jin Park_\n",
    "\n",
    "---\n",
    "### Project 3 Objectives\n",
    "\n",
    "- Build a web scraper using Python's BeautifulSoup library to scrape thread information from Reddit.\n",
    "- Predict high number of comments using RandomForest Classifier, Logistic Regresion using Grid-Search.\n",
    "- Check model accuracy by using confusion matrix.\n",
    "\n",
    "---\n",
    "### Project 3 Guide\n",
    "\n",
    "- [Imports](#Imports)\n",
    "- [Access Reddit](#Access Reddit)\n",
    "    - [Build a function that finds the last id on the page to iterate next page](#Build a function that finds the last id on the page to iterate next page)\n",
    "    - [Combine all scraped data into a DataFrame](#Combine all scraped data into a DataFrame)\n",
    "    - [Save results as a CSV](#Save results as a CSV)\n",
    "- [Exploratory Data Analysis](#Exploratory Data Analysis)\n",
    "    - [What is the baseline accuracy?](#What is the baseline accuracy?)\n",
    "- [Data Modeling](#Data Modeling)\n",
    "- [Executive Summary](#Executive Summary)"
   ]
  },
  {
   "cell_type": "markdown",
   "metadata": {},
   "source": [
    "<a id='Imports'></a>\n",
    "# Imports"
   ]
  },
  {
   "cell_type": "code",
   "execution_count": 3,
   "metadata": {
    "collapsed": true
   },
   "outputs": [],
   "source": [
    "import requests\n",
    "import json\n",
    "import urllib\n",
    "import pandas as pd\n",
    "import numpy as np\n",
    "import requests\n",
    "import json\n",
    "import re\n",
    "import time \n",
    "\n",
    "from bs4 import BeautifulSoup\n",
    "from sklearn.model_selection import cross_val_score, train_test_split\n",
    "from sklearn.linear_model import LogisticRegression\n",
    "from sklearn.ensemble import RandomForestClassifier, BaggingClassifier\n",
    "from sklearn.feature_extraction.text import CountVectorizer\n",
    "from sklearn.metrics import confusion_matrix\n",
    "from sklearn.model_selection import GridSearchCV\n",
    "\n",
    "import seaborn as sns\n",
    "import matplotlib.pyplot as plt\n",
    "%matplotlib inline"
   ]
  },
  {
   "cell_type": "markdown",
   "metadata": {},
   "source": [
    "<a id='Access Reddit'></a>\n",
    "# Access Reddit"
   ]
  },
  {
   "cell_type": "code",
   "execution_count": 4,
   "metadata": {
    "collapsed": true
   },
   "outputs": [],
   "source": [
    "request_list = [] # Empty list to store all pages of html data\n",
    "id_list = [0]\n",
    "\n",
    "for i in range(0,100,25): # Iterate pages by skipping 25 because each pages in reddit increases by count 25\n",
    "    response = requests.get(\"http://www.reddit.com/?count=\"+str(i)+\"&after=\"+str(id_list[-1]), headers = {'User-agent': 'General Assembly DSI Project'}) # set variable response to request and scrape all data in the url that iterates by 25 and set headers to user-agent to avoid reddit blocking me\n",
    "    soup = BeautifulSoup(response.content, 'lxml') # Convert variable response to text and lxml format using beautifulsoup to make it readable.\n",
    "    request_list.append(soup) # Append all converted scraped html data to empty list called request_list\n",
    "    id_list.append(soup.find_all('div', attrs={'data-type': 'link'})[-1]['data-fullname'])\n",
    "    if i%100 == 0: # if each iteration can be divided by 500 have no remainder,\n",
    "        time.sleep(120) # put computer to sleep by 60 seconds to avoid reddit blocking me "
   ]
  },
  {
   "cell_type": "markdown",
   "metadata": {},
   "source": [
    "<a id='Extract title, time, subreddit, and number of comments'></a>\n",
    "## Extract title, time, subreddit, and number of comments"
   ]
  },
  {
   "cell_type": "code",
   "execution_count": 5,
   "metadata": {
    "scrolled": true
   },
   "outputs": [
    {
     "name": "stdout",
     "output_type": "stream",
     "text": [
      "['North Ave (i.imgur.com)', \"Two kids pose for the camera at Hong Kong's Quarry Bay (i.imgur.com)\", 'Spy Kids 2018 (i.imgur.com)', 'Leaked scene from Pacific Rim 2 (i.imgur.com)', 'Girl With Muscular Dystrophy Makes Amazing PaintingsGIF (i.imgur.com)', \"HMC while-... Wait! Don't! I need to photograph it with the sunset. (v.redd.it)\", 'Is this how you do it? (i.imgur.com)', 'Ready Player One: Disney DID Allow STAR WARS (twitter.com)', 'RIP Caesar (i.redd.it)', 'Ready Player One (2018) (i.redd.it)', 'Staple City (i.redd.it)', 'TIL \"urchin\" is just another word for hedgehog. Which is where sea urchins get their name. They are hedgehogs of the sea. (en.wikipedia.org)', 'TIL Chimpanzees and some monkeys have entered the stone age. (sciencesetfree.com)', 'Prom King and Queen 🙌 (i.redd.it)', \"The spoon that doesn't spill/r/ALL (i.imgur.com)\", 'The Real Cowboy Goodboy (i.imgur.com)', \"Ben's lightsaber falls from Rey's hands and it spins at his feet giving him an idea how to kill Snoke. (i.redd.it)\", 'Dana Barrett has \"Stay Puft\" brand marshmallows on her counter when Venkman first visits her apartment. (Ghostbusters - 1984)/r/all (i.redd.it)', 'I met this cat today who showed me how to pet her (v.redd.it)', 'Found this handsome fella on the interstate looking rough and playing frogger. This is one of his happy faces after being adopted! Reddit, meet Chance! (i.redd.it)', 'Change my mind (i.imgur.com)', 'The ultimate game of hide and seek (i.imgur.com)', '🍻Hey Atlanta🍻 (imgur.com)', 'It be like that sometimes (i.redd.it)', 'The trailer release date was under our noses THE ENTIRE TIME (i.imgur.com)', 'It be like that sometimes (i.redd.it)', '🍻Hey Atlanta🍻 (imgur.com)', 'Happens to the best of usBasketball (i.redd.it)', 'This is the first day since the passing of my mother that I got out of bed, showered, and put myself together. Today is a great day! (i.redd.it)', 'This bridge (i.redd.it)', 'fuck off (i.redd.it)', 'Texan perfection.... 2M Smokehouse in San Antone, TX[4032x3024] (i.imgur.com)', 'My cousin passed away last night. He was the victim of a road rage attack. He was a father of 2, and a hero to many as an organ donor. (i.redd.it)', 'Dad or die★★★★★ Dad Reflex (media.giphy.com)', 'Use facebook manual (i.redd.it)', '[Screenshot] Sony please, I think it is time![Screenshot] (assets.change.org)', 'Im gunna kill you!... Oh wait this is actually pretty good! Thank you. (v.redd.it)', 'Aerial View of NYC (i.imgur.com)', 'Fortnite Editing: Wallsr/all (i.imgur.com)', \"Assaults increased when cities hosted Trump rallies: Cities that hosted a Trump campaign rally saw an average of 2.3 more assaults reported on the day of the event than on a typical day. No such link was found for Hillary Clinton's rallies.Social Science (nytimes.com)\", \"Zofia Posmysz's mugshot after being arrested for distributing anti-Nazi leaflets. She was sent to Auschwitz but survived 2 concentration camps and today is 94 . (news.o.pl)\", 'Cozy little corner on the top floor of a mountain cabin (i.redd.it)', 'Chinese Invisibility Cloak Hoax DESTROYED!!! (youtube.com)', \"Made my first GIF, it's alright but I figured I'd post. (i.redd.it)\", '\"No, you come here\" (i.imgur.com)', 'TIL that some owls keep blind snakes as pets. They feed on parasitic larvae, and a study conducted by Baylor University scientists found that Eastern Screech-Owl chicks grew faster and healthier in nests kept parasite-free by these “domesticated blind snakes”. (mnn.com)', 'Bathroom fan blades from non-smoker vs smoker (i.redd.it)', 'Yellow, digital, 5000x5000 pxArtwork (i.redd.it)', 'TIL of Samoset, the first Native American to make contact with the Pilgrims of Plymouth Colony. He entered the settlement unannounced, greeted the colonists in English (which he had learned from fishermen in Maine), and asked for beer. (en.wikipedia.org)', 'Everyone this is our new world leader please welcome her and make her feel loved and appreciatedTumblr (i.redd.it)', 'TIL that in the late 1700s and 1800s, there was widespread panic about the evils of book-reading, which was described as “an outrage on decency and common sense”. People were concerned that avid novel-readers were ‘addicted’ and were becoming anti-social. (timeline.com)', 'Rescuing a stray pup (i.imgur.com)', 'Humans being bros in r/wouldyourather (i.redd.it)', 'I drew Bagel Goose Art :)Art (i.redd.it)', 'Tardigrate hours have B E G U N (i.redd.it)', 'Sometimes the CHP gives you a piece of their mind... (v.redd.it)', \"Where's the shitposting been boys?Image (i.imgur.com)\", 'Pup on her shoulder (i.imgur.com)', 'White Joy-Cons w/ Colored buttons (i.redd.it)', 'Curious cows investigate a strange visitor in their field<GIF> (gfycat.com)', 'Unlicensed Forklift Operator (i.imgur.com)', 'Dog running to retrieve the mail (i.imgur.com)', 'This magnetically levitating solar-powered Mendocino motorSourced (i.imgur.com)', 'TIL that in Kenya, elephant poop is being used to make paper. Elephants poop up to 50kg a day which can produce 125 sheets of paper. This helps save the indigenous tree population and forest from being destroyed, along with creating a need for the 7000 elephants left in Kenya. (bbc.com)', \"TIL Mueller is a hockey guy. Just when you thought he couldn't get any more badass. (i.redd.it)\", 'Do it (i.redd.it)', 'Mosque-vandalizing MAGA moms arrested in Arizona (dailykos.com)', \"From 2015-2018 we've driven a lot of miles together. (imgur.com)\", 'It sure does look like it... :(Other (i.redd.it)', 'TIL Brad Pitt believes he has Prosopagnosia or \"face blindness\", a condition in which he has trouble recognizing and remembering faces, including his own (medicaldaily.com)', \"After eating Chipotle for 500 days, an Ohio man says he's ready for something new (katu.com)\", \"ULPT: If you are a Network Engineer at a company, disconnect the CEO's network connection every few weeks or so. Then when they come to you asking you to fix it, you will know how to fix the problem immediately, making you look much better at your job. (self.UnethicalLifeProTips)\", \"A custodian takes advantage of National School Walkout and steals $180 from students' book bags (cnn.com)\", \"Entitled mother doesn't know what perspective isMurder (i.redd.it)\", 'A guide to regional pizzas (i.redd.it)', '24 Hours in Miami (i.redd.it)', 'When you down the crate guy.Media (i.imgur.com)', 'Court Overturns Obama-Era Rule on Retirement PlannersRetirement (self.personalfinance)', 'My kind of marathon (i.redd.it)', 'This fits in perfectlyMeta (i.redd.it)', \"[Alexi Lalas] I'm sorry Seattle, you've lost the crown. When it comes to relevancy and when it comes to impact it's all about Atlanta right now. (twitter.com)\", 'If we complained when Dad farted, he’s beat us. I hated my family and those fucking protein shakes.No Context (i.imgur.com)', 'Huh. (i.redd.it)', 'U r the gey? (i.redd.it)', 'TIL of Robert Smalls, a slave who freed himself his crew & their families by overtaking Confederate ship, CSS Planter, and sailing it north. The ship contained a code book letting them pass CSA checkpoints. He became new captain of the ship & convinced Lincoln to admit African Americans to the Army (en.wikipedia.org)', \"[Alexi Lalas] I'm sorry Seattle, you've lost the crown. When it comes to relevancy and when it comes to impact it's all about Atlanta right now. (twitter.com)\", 'Rick and Morty x Run The Jewels: Oh Mama/r/all (youtu.be)', 'Government connected to mafia killed innocent journalist and tries to oppress our rights. We protest. Around 100 000 people in streets through the country of Slovakia. (i.redd.it)', 'People are dying because we misunderstand how those with addiction think | a philosopher explains why addiction isn’t a moral failureBlog (vox.com)', 'Have you ever been this comfortable (i.imgur.com)', 'I just have no words WCGW?Repost (i.imgur.com)', \"Earlier people used to write personal stuff in their diaries and get mad when people read them. Now people write personal stuff on social media and get mad when people DON'T read them. (self.Showerthoughts)\", 'Yamil checking on his former teammate. (imgur.com)', \"[NBA2k] Heard you were talkin' shit (i.imgur.com)\", 'Meat vs. cat = 1:0 (v.redd.it)', 'The real poster for Avengers Infinity War (courtesy of @bosslogic)Poster (i.redd.it)', 'I just read my first Sci-Fi Novel, Do Androids Dream of Electric Sheep. (self.books)', '[Video] Astros outfielder George Springer, who is very open about his stuttering, gets interviewed during Spring Training by a brave reporter with similar issues.Video (streamable.com)', \"Everyone going out for St. Patrick's day tomorrow (i.redd.it)\", '“The man exudes sex“ (i.redd.it)']\n"
     ]
    }
   ],
   "source": [
    "# This function extracts only title from request_list\n",
    "def extract_title(request_list):    \n",
    "    title = [] # Empty list to store title in   \n",
    "    for i in request_list: # Iterate through request_list\n",
    "        if response.status_code == 200: # if response status code is 200 then run the for loop below\n",
    "            for each in i.find_all('p', attrs={'class': 'title'}): # Find all attribute class: title in p tag to extract title only \n",
    "                title.append(each.text) # append the title thats in text format to title list\n",
    "        else:\n",
    "            print(\"Call failed at request \", i) # if status code is not 200 print this for each iteration that fails           \n",
    "    return title # return the output in the list\n",
    "\n",
    "fetch_titles = extract_title(request_list) # set the function as a variable called fetch_title\n",
    "print(fetch_titles)"
   ]
  },
  {
   "cell_type": "code",
   "execution_count": 6,
   "metadata": {
    "scrolled": true
   },
   "outputs": [
    {
     "name": "stdout",
     "output_type": "stream",
     "text": [
      "['Fri Mar 16 15:37:47 2018 UTC', 'Fri Mar 16 22:10:39 2018 UTC', 'Fri Mar 16 21:58:41 2018 UTC', 'Fri Mar 16 21:53:05 2018 UTC', 'Fri Mar 16 22:40:25 2018 UTC', 'Fri Mar 16 21:53:22 2018 UTC', 'Fri Mar 16 23:01:31 2018 UTC', 'Fri Mar 16 21:15:32 2018 UTC', 'Fri Mar 16 21:39:34 2018 UTC', 'Fri Mar 16 20:55:18 2018 UTC', 'Fri Mar 16 19:03:57 2018 UTC', 'Fri Mar 16 18:52:54 2018 UTC', 'Fri Mar 16 22:18:03 2018 UTC', 'Fri Mar 16 21:41:29 2018 UTC', 'Fri Mar 16 19:37:36 2018 UTC', 'Fri Mar 16 20:08:08 2018 UTC', 'Fri Mar 16 21:15:08 2018 UTC', 'Fri Mar 16 20:23:42 2018 UTC', 'Sat Mar 17 00:25:11 2018 UTC', 'Fri Mar 16 21:42:26 2018 UTC', 'Fri Mar 16 20:38:48 2018 UTC', 'Fri Mar 16 18:55:25 2018 UTC', 'Sat Mar 17 00:05:48 2018 UTC', 'Fri Mar 16 17:45:31 2018 UTC', 'Fri Mar 16 19:48:38 2018 UTC', 'Fri Mar 16 17:45:31 2018 UTC', 'Sat Mar 17 00:05:48 2018 UTC', 'Fri Mar 16 18:01:36 2018 UTC', 'Fri Mar 16 20:19:44 2018 UTC', 'Fri Mar 16 18:27:37 2018 UTC', 'Fri Mar 16 19:23:59 2018 UTC', 'Fri Mar 16 21:44:23 2018 UTC', 'Fri Mar 16 20:06:34 2018 UTC', 'Fri Mar 16 21:27:57 2018 UTC', 'Fri Mar 16 18:18:40 2018 UTC', 'Fri Mar 16 20:21:09 2018 UTC', 'Fri Mar 16 22:13:14 2018 UTC', 'Fri Mar 16 20:23:04 2018 UTC', 'Fri Mar 16 18:57:09 2018 UTC', 'Fri Mar 16 21:20:47 2018 UTC', 'Fri Mar 16 17:14:46 2018 UTC', 'Fri Mar 16 22:32:38 2018 UTC', 'Fri Mar 16 19:17:54 2018 UTC', 'Fri Mar 16 19:27:02 2018 UTC', 'Fri Mar 16 17:29:07 2018 UTC', 'Fri Mar 16 20:11:32 2018 UTC', 'Fri Mar 16 21:38:28 2018 UTC', 'Fri Mar 16 19:42:32 2018 UTC', 'Fri Mar 16 20:52:35 2018 UTC', 'Fri Mar 16 20:57:05 2018 UTC', 'Fri Mar 16 19:53:50 2018 UTC', 'Fri Mar 16 17:31:51 2018 UTC', 'Fri Mar 16 17:09:16 2018 UTC', 'Fri Mar 16 21:14:50 2018 UTC', 'Fri Mar 16 21:49:13 2018 UTC', 'Fri Mar 16 21:41:32 2018 UTC', 'Fri Mar 16 22:30:10 2018 UTC', 'Fri Mar 16 16:17:05 2018 UTC', 'Fri Mar 16 18:34:38 2018 UTC', 'Fri Mar 16 16:25:28 2018 UTC', 'Fri Mar 16 17:23:40 2018 UTC', 'Fri Mar 16 17:17:07 2018 UTC', 'Fri Mar 16 17:06:19 2018 UTC', 'Fri Mar 16 19:10:18 2018 UTC', 'Fri Mar 16 18:30:18 2018 UTC', 'Fri Mar 16 16:17:48 2018 UTC', 'Fri Mar 16 17:52:24 2018 UTC', 'Fri Mar 16 22:39:52 2018 UTC', 'Fri Mar 16 20:53:33 2018 UTC', 'Fri Mar 16 16:31:05 2018 UTC', 'Fri Mar 16 14:58:17 2018 UTC', 'Fri Mar 16 18:11:30 2018 UTC', 'Fri Mar 16 14:57:07 2018 UTC', 'Fri Mar 16 18:08:27 2018 UTC', 'Fri Mar 16 16:47:00 2018 UTC', 'Fri Mar 16 16:12:09 2018 UTC', 'Fri Mar 16 16:44:11 2018 UTC', 'Fri Mar 16 15:42:15 2018 UTC', 'Fri Mar 16 23:58:59 2018 UTC', 'Fri Mar 16 18:48:00 2018 UTC', 'Fri Mar 16 19:35:46 2018 UTC', 'Fri Mar 16 16:09:36 2018 UTC', 'Fri Mar 16 18:59:33 2018 UTC', 'Fri Mar 16 15:28:01 2018 UTC', 'Fri Mar 16 14:38:32 2018 UTC', 'Fri Mar 16 19:31:09 2018 UTC', 'Fri Mar 16 16:08:21 2018 UTC', 'Fri Mar 16 22:36:49 2018 UTC', 'Fri Mar 16 15:46:51 2018 UTC', 'Fri Mar 16 15:49:41 2018 UTC', 'Fri Mar 16 14:13:19 2018 UTC', 'Fri Mar 16 15:08:03 2018 UTC', 'Fri Mar 16 18:19:56 2018 UTC', 'Fri Mar 16 15:30:29 2018 UTC', 'Fri Mar 16 22:55:30 2018 UTC', 'Sat Mar 17 01:05:59 2018 UTC', 'Fri Mar 16 19:18:58 2018 UTC', 'Fri Mar 16 16:24:04 2018 UTC', 'Fri Mar 16 14:10:19 2018 UTC', 'Fri Mar 16 19:05:19 2018 UTC']\n"
     ]
    }
   ],
   "source": [
    "# Same process that only extracts time in request_list\n",
    "def extract_time(request_list):\n",
    "    time = []\n",
    "    for i in request_list:\n",
    "        if response.status_code == 200:\n",
    "            for each in i.find_all('time', attrs={'class': 'live-timestamp'}):\n",
    "                time.append(each['title'])\n",
    "        else:\n",
    "            print(\"Call failed at request \", i)    \n",
    "    return time\n",
    "\n",
    "fetch_time = extract_time(request_list)\n",
    "print(fetch_time)"
   ]
  },
  {
   "cell_type": "code",
   "execution_count": null,
   "metadata": {
    "collapsed": true,
    "scrolled": true
   },
   "outputs": [],
   "source": [
    "# Same process but extracting only subreddit in request_list\n",
    "def extract_subreddit(request_list):\n",
    "    subreddit = []\n",
    "    for i in request_list:\n",
    "        if response.status_code == 200:\n",
    "            for each in i.find_all('a', attrs={'class': 'subreddit'}):\n",
    "                subreddit.append(each.text)\n",
    "        else:\n",
    "            print(\"Call failed at request \", i)    \n",
    "    return subreddit\n",
    "\n",
    "fetch_subreddit = extract_subreddit(request_list)\n",
    "print(fetch_subreddit)"
   ]
  },
  {
   "cell_type": "code",
   "execution_count": null,
   "metadata": {
    "collapsed": true
   },
   "outputs": [],
   "source": [
    "# Same process that extracts only number of comments in request list\n",
    "def extract_number_of_comments(request_list):\n",
    "    number_of_comments = []\n",
    "    for i in request_list:\n",
    "        if response.status_code == 200:\n",
    "            for each in i.find_all('a', attrs={'class': 'bylink comments may-blank'}):\n",
    "                number_of_comments.append(each.text.split()[0])\n",
    "        else:\n",
    "            print(\"Call failed at request \", i)    \n",
    "    return number_of_comments\n",
    "\n",
    "fetch_number_of_comments = extract_number_of_comments(request_list)\n",
    "print(fetch_number_of_comments)"
   ]
  },
  {
   "cell_type": "code",
   "execution_count": null,
   "metadata": {
    "collapsed": true
   },
   "outputs": [],
   "source": [
    "print('Length of Title:', len(fetch_titles))\n",
    "print('Length of Time', len(fetch_time))\n",
    "print('Length of Subreddit', len(fetch_subreddit))\n",
    "print('Length of Number of Comments', len(fetch_number_of_comments))"
   ]
  },
  {
   "cell_type": "markdown",
   "metadata": {},
   "source": [
    "<a id='Build a function that finds the last id on the page to iterate next page'></a>\n",
    "## Build a function that finds the last id on the page to iterate next page"
   ]
  },
  {
   "cell_type": "code",
   "execution_count": null,
   "metadata": {
    "collapsed": true
   },
   "outputs": [],
   "source": [
    "# In converted html data, find all attributes that have \n",
    "# data-type:link inside the div, look for last data-fullname\n",
    "def last_id(soup):\n",
    "    all_div = soup.find_all('div', attrs={'data-type': 'link'})\n",
    "    return all_div[-1]['data-fullname']\n",
    "\n",
    "last_id(soup)"
   ]
  },
  {
   "cell_type": "markdown",
   "metadata": {},
   "source": [
    "<a id='Combine all scraped data into a DataFrame'></a>\n",
    "## Combine all scraped data into a DataFrame"
   ]
  },
  {
   "cell_type": "code",
   "execution_count": null,
   "metadata": {
    "collapsed": true,
    "focus": false,
    "id": "6e259594-1c52-436b-ab9e-527e071941c1"
   },
   "outputs": [],
   "source": [
    "# Putting all fetched variables, giving a title and make dataframe.\n",
    "df = pd.DataFrame({'title':fetch_titles,\n",
    "                   'time': fetch_time, \n",
    "                   'subreddit': fetch_subreddit, \n",
    "                   'number_of_comments':fetch_number_of_comments})"
   ]
  },
  {
   "cell_type": "markdown",
   "metadata": {
    "focus": false,
    "id": "43e71edd-210e-42b1-9336-70a931f048af"
   },
   "source": [
    "<a id='Combine all scraped data into a DataFrame'></a>\n",
    "### Save results as a CSV"
   ]
  },
  {
   "cell_type": "code",
   "execution_count": null,
   "metadata": {
    "collapsed": true,
    "focus": false,
    "id": "783fd153-28ac-47ab-bfca-27e7c1de95b4"
   },
   "outputs": [],
   "source": [
    "# Export to csv\n",
    "df.to_csv('reddit_web_scraping.csv', index=False)"
   ]
  },
  {
   "cell_type": "markdown",
   "metadata": {},
   "source": [
    "<a id='Exploratory Data Analysis'></a>\n",
    "# Exploratory Data Analysis"
   ]
  },
  {
   "cell_type": "markdown",
   "metadata": {
    "focus": false,
    "id": "243e949e-2742-40af-872e-fec475fd306c"
   },
   "source": [
    "#### Load in the the data of scraped results"
   ]
  },
  {
   "cell_type": "code",
   "execution_count": 141,
   "metadata": {
    "collapsed": true
   },
   "outputs": [],
   "source": [
    "# Read web scrapped file as df\n",
    "df = pd.read_csv('./reddit_web_scraping.csv')"
   ]
  },
  {
   "cell_type": "code",
   "execution_count": 142,
   "metadata": {
    "focus": false,
    "id": "588f9845-6143-4bcc-bfd1-85d45b79303d"
   },
   "outputs": [
    {
     "data": {
      "text/html": [
       "<div>\n",
       "<style>\n",
       "    .dataframe thead tr:only-child th {\n",
       "        text-align: right;\n",
       "    }\n",
       "\n",
       "    .dataframe thead th {\n",
       "        text-align: left;\n",
       "    }\n",
       "\n",
       "    .dataframe tbody tr th {\n",
       "        vertical-align: top;\n",
       "    }\n",
       "</style>\n",
       "<table border=\"1\" class=\"dataframe\">\n",
       "  <thead>\n",
       "    <tr style=\"text-align: right;\">\n",
       "      <th></th>\n",
       "      <th>number_of_comments</th>\n",
       "      <th>subreddit</th>\n",
       "      <th>time</th>\n",
       "      <th>title</th>\n",
       "    </tr>\n",
       "  </thead>\n",
       "  <tbody>\n",
       "    <tr>\n",
       "      <th>0</th>\n",
       "      <td>570</td>\n",
       "      <td>r/aww</td>\n",
       "      <td>Wed Feb 21 19:50:46 2018 UTC</td>\n",
       "      <td>Found this guy under my car this morning. Spen...</td>\n",
       "    </tr>\n",
       "    <tr>\n",
       "      <th>1</th>\n",
       "      <td>448</td>\n",
       "      <td>r/funny</td>\n",
       "      <td>Wed Feb 21 19:55:10 2018 UTC</td>\n",
       "      <td>When the student refuses to cooperate (r/Legit...</td>\n",
       "    </tr>\n",
       "    <tr>\n",
       "      <th>2</th>\n",
       "      <td>146</td>\n",
       "      <td>r/oddlysatisfying</td>\n",
       "      <td>Wed Feb 21 20:14:16 2018 UTC</td>\n",
       "      <td>Heavy rain leaves trail under crystalline wate...</td>\n",
       "    </tr>\n",
       "    <tr>\n",
       "      <th>3</th>\n",
       "      <td>640</td>\n",
       "      <td>r/history</td>\n",
       "      <td>Wed Feb 21 19:36:14 2018 UTC</td>\n",
       "      <td>New \"Discovery Mode\" turns video game \"Assassi...</td>\n",
       "    </tr>\n",
       "    <tr>\n",
       "      <th>4</th>\n",
       "      <td>633</td>\n",
       "      <td>r/web_design</td>\n",
       "      <td>Wed Feb 21 17:43:34 2018 UTC</td>\n",
       "      <td>Animated login avatar&lt;form&gt; (v.redd.it)</td>\n",
       "    </tr>\n",
       "  </tbody>\n",
       "</table>\n",
       "</div>"
      ],
      "text/plain": [
       "   number_of_comments          subreddit                          time  \\\n",
       "0                 570              r/aww  Wed Feb 21 19:50:46 2018 UTC   \n",
       "1                 448            r/funny  Wed Feb 21 19:55:10 2018 UTC   \n",
       "2                 146  r/oddlysatisfying  Wed Feb 21 20:14:16 2018 UTC   \n",
       "3                 640          r/history  Wed Feb 21 19:36:14 2018 UTC   \n",
       "4                 633       r/web_design  Wed Feb 21 17:43:34 2018 UTC   \n",
       "\n",
       "                                               title  \n",
       "0  Found this guy under my car this morning. Spen...  \n",
       "1  When the student refuses to cooperate (r/Legit...  \n",
       "2  Heavy rain leaves trail under crystalline wate...  \n",
       "3  New \"Discovery Mode\" turns video game \"Assassi...  \n",
       "4            Animated login avatar<form> (v.redd.it)  "
      ]
     },
     "execution_count": 142,
     "metadata": {},
     "output_type": "execute_result"
    }
   ],
   "source": [
    "# Read top 5 rows of df\n",
    "df.head()"
   ]
  },
  {
   "cell_type": "markdown",
   "metadata": {
    "focus": false,
    "id": "c7631f51-07f2-4c79-a093-3e9bc7849a48"
   },
   "source": [
    "#### Predict a binary variable - whether the number of comments was low or high."
   ]
  },
  {
   "cell_type": "code",
   "execution_count": 143,
   "metadata": {},
   "outputs": [
    {
     "data": {
      "text/plain": [
       "count    1000.000000\n",
       "mean      438.536000\n",
       "std       962.326127\n",
       "min         1.000000\n",
       "25%        52.000000\n",
       "50%       135.500000\n",
       "75%       401.000000\n",
       "max      8817.000000\n",
       "Name: number_of_comments, dtype: float64"
      ]
     },
     "execution_count": 143,
     "metadata": {},
     "output_type": "execute_result"
    }
   ],
   "source": [
    "# 401 is the cut off for high or low number of comments.\n",
    "df['number_of_comments'].describe()"
   ]
  },
  {
   "cell_type": "code",
   "execution_count": 144,
   "metadata": {
    "collapsed": true,
    "focus": false,
    "id": "c20d2498-151c-44c3-a453-3a333c79a0ac"
   },
   "outputs": [],
   "source": [
    "# Converting comments that are higher than 652 as 1  else 0 in high_comments column.\n",
    "df['high_comments'] = df['number_of_comments'].map(lambda x: 1 if x > 401.00 else 0)"
   ]
  },
  {
   "cell_type": "code",
   "execution_count": 145,
   "metadata": {
    "scrolled": true
   },
   "outputs": [
    {
     "data": {
      "text/html": [
       "<div>\n",
       "<style>\n",
       "    .dataframe thead tr:only-child th {\n",
       "        text-align: right;\n",
       "    }\n",
       "\n",
       "    .dataframe thead th {\n",
       "        text-align: left;\n",
       "    }\n",
       "\n",
       "    .dataframe tbody tr th {\n",
       "        vertical-align: top;\n",
       "    }\n",
       "</style>\n",
       "<table border=\"1\" class=\"dataframe\">\n",
       "  <thead>\n",
       "    <tr style=\"text-align: right;\">\n",
       "      <th></th>\n",
       "      <th>number_of_comments</th>\n",
       "      <th>subreddit</th>\n",
       "      <th>time</th>\n",
       "      <th>title</th>\n",
       "      <th>high_comments</th>\n",
       "    </tr>\n",
       "  </thead>\n",
       "  <tbody>\n",
       "    <tr>\n",
       "      <th>0</th>\n",
       "      <td>570</td>\n",
       "      <td>r/aww</td>\n",
       "      <td>Wed Feb 21 19:50:46 2018 UTC</td>\n",
       "      <td>Found this guy under my car this morning. Spen...</td>\n",
       "      <td>1</td>\n",
       "    </tr>\n",
       "    <tr>\n",
       "      <th>1</th>\n",
       "      <td>448</td>\n",
       "      <td>r/funny</td>\n",
       "      <td>Wed Feb 21 19:55:10 2018 UTC</td>\n",
       "      <td>When the student refuses to cooperate (r/Legit...</td>\n",
       "      <td>1</td>\n",
       "    </tr>\n",
       "    <tr>\n",
       "      <th>2</th>\n",
       "      <td>146</td>\n",
       "      <td>r/oddlysatisfying</td>\n",
       "      <td>Wed Feb 21 20:14:16 2018 UTC</td>\n",
       "      <td>Heavy rain leaves trail under crystalline wate...</td>\n",
       "      <td>0</td>\n",
       "    </tr>\n",
       "    <tr>\n",
       "      <th>3</th>\n",
       "      <td>640</td>\n",
       "      <td>r/history</td>\n",
       "      <td>Wed Feb 21 19:36:14 2018 UTC</td>\n",
       "      <td>New \"Discovery Mode\" turns video game \"Assassi...</td>\n",
       "      <td>1</td>\n",
       "    </tr>\n",
       "    <tr>\n",
       "      <th>4</th>\n",
       "      <td>633</td>\n",
       "      <td>r/web_design</td>\n",
       "      <td>Wed Feb 21 17:43:34 2018 UTC</td>\n",
       "      <td>Animated login avatar&lt;form&gt; (v.redd.it)</td>\n",
       "      <td>1</td>\n",
       "    </tr>\n",
       "  </tbody>\n",
       "</table>\n",
       "</div>"
      ],
      "text/plain": [
       "   number_of_comments          subreddit                          time  \\\n",
       "0                 570              r/aww  Wed Feb 21 19:50:46 2018 UTC   \n",
       "1                 448            r/funny  Wed Feb 21 19:55:10 2018 UTC   \n",
       "2                 146  r/oddlysatisfying  Wed Feb 21 20:14:16 2018 UTC   \n",
       "3                 640          r/history  Wed Feb 21 19:36:14 2018 UTC   \n",
       "4                 633       r/web_design  Wed Feb 21 17:43:34 2018 UTC   \n",
       "\n",
       "                                               title  high_comments  \n",
       "0  Found this guy under my car this morning. Spen...              1  \n",
       "1  When the student refuses to cooperate (r/Legit...              1  \n",
       "2  Heavy rain leaves trail under crystalline wate...              0  \n",
       "3  New \"Discovery Mode\" turns video game \"Assassi...              1  \n",
       "4            Animated login avatar<form> (v.redd.it)              1  "
      ]
     },
     "execution_count": 145,
     "metadata": {},
     "output_type": "execute_result"
    }
   ],
   "source": [
    "df.head()"
   ]
  },
  {
   "cell_type": "markdown",
   "metadata": {
    "focus": false,
    "id": "a7afb2c0-d41e-4779-8216-91cd8dd4473f"
   },
   "source": [
    "<a id='What is the baseline accuracy?'></a>\n",
    "## What is the baseline accuracy?"
   ]
  },
  {
   "cell_type": "code",
   "execution_count": 146,
   "metadata": {
    "focus": false,
    "id": "87a17d3d-b7f4-4747-9f75-f9af1d18a174"
   },
   "outputs": [
    {
     "name": "stdout",
     "output_type": "stream",
     "text": [
      "Baseline Accuracy: 0.752\n"
     ]
    }
   ],
   "source": [
    "# Baseline accuracy for high comments\n",
    "baseline = 1-(df['high_comments'].mean())\n",
    "print('Baseline Accuracy:', baseline)"
   ]
  },
  {
   "cell_type": "code",
   "execution_count": 227,
   "metadata": {},
   "outputs": [
    {
     "data": {
      "image/png": "[encoded data removed]",
      "text/plain": [
       "<matplotlib.figure.Figure at 0x1a1d8634e0>"
      ]
     },
     "metadata": {},
     "output_type": "display_data"
    }
   ],
   "source": [
    "# Plot a histogram to see the distribution for number of comments.\n",
    "df['number_of_comments'].hist()\n",
    "plt.title('Histogram for Number of Comments')\n",
    "plt.xlabel('Number of Comments')\n",
    "plt.ylabel('Count');"
   ]
  },
  {
   "cell_type": "code",
   "execution_count": 148,
   "metadata": {},
   "outputs": [
    {
     "data": {
      "image/png": "[encoded data removed]",
      "text/plain": [
       "<matplotlib.figure.Figure at 0x1a1e5aa940>"
      ]
     },
     "metadata": {},
     "output_type": "display_data"
    }
   ],
   "source": [
    "# Plot a bargraph to compare high comments (1) vs low comments (0).\n",
    "ax = plt.axes()\n",
    "sns.countplot(x=\"high_comments\", data=df, palette=\"Greens_d\")\n",
    "ax.set_title('Histogram for High/Low Comment')\n",
    "plt.show();"
   ]
  },
  {
   "cell_type": "markdown",
   "metadata": {},
   "source": [
    "To predict the number of comments, data needs to be converted into a binary classification problem by splitting the \"number_of_comments\" column into two classes, high or low number of comments to 1 or 0 (binary). \n",
    "\n",
    "Since the mean for the \"number_of_comments\" is 438, data were split on the 75th percentile which is 401 comments as a breaking point. After deciding the breaking point for the high comments, the \"number_of_comments\" data has been filtered out by assigning comments that are higher than 401 as 1 else 0 and stored the result into a new column called \"high_comments\".\n",
    "\n",
    "After the feature engineering, histograms show that the data is heavily skewed positively which indicates that the mean is less than the median and the mode. This explains that there are more 0 than 1, more low comments than high comments. In addition, a baseline accuracy was calculated by getting the average of the \"high_comments\" column and subtract 1 from it. The main reason to subtract 1 is that there are more low comments than high comments. The average result for high comments (1) is showing 25% accuracy whereas low comments(0) is 75% accuracy in predicting the Y-value. Therefore, it makes perfect sense to choose higher accuracy even though this is a very simple baseline accuracy.\n",
    "\n",
    "A baseline is a method that uses a very simple summary statistic to predict a dataset by getting the average. This baseline accuracy result will be used to compare with other models to determine the performance of other machine learning models."
   ]
  },
  {
   "cell_type": "code",
   "execution_count": 229,
   "metadata": {
    "collapsed": true,
    "scrolled": true
   },
   "outputs": [],
   "source": [
    "# Import Counter from collections library to count most occurring words.\n",
    "from collections import Counter\n",
    "\n",
    "# Write a function to extract the most common words in title.\n",
    "split_list = [] # Empty list to store each words.\n",
    "for each in df['title']: # Iterate through each title in title column.\n",
    "    for word in each.split(): # Split title into each words.\n",
    "        split_list.append(word) # Append each words into empty list split_list.\n",
    "    \n",
    "count_words = Counter(split_list) # Counts how many times each word shows up.\n",
    "counts_df = pd.DataFrame.from_dict(count_words, orient='index')\\\n",
    ".reset_index().sort_values(0, ascending=False) # Sort highest number of counts to lowest."
   ]
  },
  {
   "cell_type": "code",
   "execution_count": 230,
   "metadata": {},
   "outputs": [
    {
     "data": {
      "text/html": [
       "<div>\n",
       "<style>\n",
       "    .dataframe thead tr:only-child th {\n",
       "        text-align: right;\n",
       "    }\n",
       "\n",
       "    .dataframe thead th {\n",
       "        text-align: left;\n",
       "    }\n",
       "\n",
       "    .dataframe tbody tr th {\n",
       "        vertical-align: top;\n",
       "    }\n",
       "</style>\n",
       "<table border=\"1\" class=\"dataframe\">\n",
       "  <thead>\n",
       "    <tr style=\"text-align: right;\">\n",
       "      <th></th>\n",
       "      <th>index</th>\n",
       "      <th>0</th>\n",
       "    </tr>\n",
       "  </thead>\n",
       "  <tbody>\n",
       "    <tr>\n",
       "      <th>16</th>\n",
       "      <td>(i.redd.it)</td>\n",
       "      <td>426</td>\n",
       "    </tr>\n",
       "    <tr>\n",
       "      <th>18</th>\n",
       "      <td>the</td>\n",
       "      <td>333</td>\n",
       "    </tr>\n",
       "    <tr>\n",
       "      <th>46</th>\n",
       "      <td>a</td>\n",
       "      <td>304</td>\n",
       "    </tr>\n",
       "    <tr>\n",
       "      <th>21</th>\n",
       "      <td>to</td>\n",
       "      <td>243</td>\n",
       "    </tr>\n",
       "    <tr>\n",
       "      <th>110</th>\n",
       "      <td>(i.imgur.com)</td>\n",
       "      <td>229</td>\n",
       "    </tr>\n",
       "    <tr>\n",
       "      <th>127</th>\n",
       "      <td>in</td>\n",
       "      <td>180</td>\n",
       "    </tr>\n",
       "    <tr>\n",
       "      <th>55</th>\n",
       "      <td>of</td>\n",
       "      <td>166</td>\n",
       "    </tr>\n",
       "    <tr>\n",
       "      <th>14</th>\n",
       "      <td>and</td>\n",
       "      <td>138</td>\n",
       "    </tr>\n",
       "    <tr>\n",
       "      <th>344</th>\n",
       "      <td>I</td>\n",
       "      <td>113</td>\n",
       "    </tr>\n",
       "    <tr>\n",
       "      <th>75</th>\n",
       "      <td>for</td>\n",
       "      <td>95</td>\n",
       "    </tr>\n",
       "  </tbody>\n",
       "</table>\n",
       "</div>"
      ],
      "text/plain": [
       "             index    0\n",
       "16     (i.redd.it)  426\n",
       "18             the  333\n",
       "46               a  304\n",
       "21              to  243\n",
       "110  (i.imgur.com)  229\n",
       "127             in  180\n",
       "55              of  166\n",
       "14             and  138\n",
       "344              I  113\n",
       "75             for   95"
      ]
     },
     "execution_count": 230,
     "metadata": {},
     "output_type": "execute_result"
    }
   ],
   "source": [
    "counts_df.head(10)"
   ]
  },
  {
   "cell_type": "code",
   "execution_count": 234,
   "metadata": {
    "collapsed": true
   },
   "outputs": [],
   "source": [
    "# Write a function to extract the most common subreddit in subreddit.\n",
    "from collections import Counter\n",
    "\n",
    "split_list = []\n",
    "for each in df['subreddit']:\n",
    "    for word in each.split():\n",
    "        split_list.append(word)\n",
    "    \n",
    "count_subred = Counter(split_list)\n",
    "counts_df2 = pd.DataFrame.from_dict(count_subred, orient='index')\\\n",
    ".reset_index().sort_values(0, ascending=False)"
   ]
  },
  {
   "cell_type": "code",
   "execution_count": 235,
   "metadata": {},
   "outputs": [
    {
     "data": {
      "text/html": [
       "<div>\n",
       "<style>\n",
       "    .dataframe thead tr:only-child th {\n",
       "        text-align: right;\n",
       "    }\n",
       "\n",
       "    .dataframe thead th {\n",
       "        text-align: left;\n",
       "    }\n",
       "\n",
       "    .dataframe tbody tr th {\n",
       "        vertical-align: top;\n",
       "    }\n",
       "</style>\n",
       "<table border=\"1\" class=\"dataframe\">\n",
       "  <thead>\n",
       "    <tr style=\"text-align: right;\">\n",
       "      <th></th>\n",
       "      <th>index</th>\n",
       "      <th>0</th>\n",
       "    </tr>\n",
       "  </thead>\n",
       "  <tbody>\n",
       "    <tr>\n",
       "      <th>0</th>\n",
       "      <td>r/aww</td>\n",
       "      <td>29</td>\n",
       "    </tr>\n",
       "    <tr>\n",
       "      <th>1</th>\n",
       "      <td>r/funny</td>\n",
       "      <td>28</td>\n",
       "    </tr>\n",
       "    <tr>\n",
       "      <th>28</th>\n",
       "      <td>r/BlackPeopleTwitter</td>\n",
       "      <td>25</td>\n",
       "    </tr>\n",
       "    <tr>\n",
       "      <th>8</th>\n",
       "      <td>r/todayilearned</td>\n",
       "      <td>22</td>\n",
       "    </tr>\n",
       "    <tr>\n",
       "      <th>9</th>\n",
       "      <td>r/gifs</td>\n",
       "      <td>21</td>\n",
       "    </tr>\n",
       "    <tr>\n",
       "      <th>46</th>\n",
       "      <td>r/gaming</td>\n",
       "      <td>20</td>\n",
       "    </tr>\n",
       "    <tr>\n",
       "      <th>24</th>\n",
       "      <td>r/pics</td>\n",
       "      <td>18</td>\n",
       "    </tr>\n",
       "    <tr>\n",
       "      <th>77</th>\n",
       "      <td>r/interestingasfuck</td>\n",
       "      <td>15</td>\n",
       "    </tr>\n",
       "    <tr>\n",
       "      <th>111</th>\n",
       "      <td>r/FortNiteBR</td>\n",
       "      <td>12</td>\n",
       "    </tr>\n",
       "    <tr>\n",
       "      <th>82</th>\n",
       "      <td>r/AskReddit</td>\n",
       "      <td>12</td>\n",
       "    </tr>\n",
       "  </tbody>\n",
       "</table>\n",
       "</div>"
      ],
      "text/plain": [
       "                    index   0\n",
       "0                   r/aww  29\n",
       "1                 r/funny  28\n",
       "28   r/BlackPeopleTwitter  25\n",
       "8         r/todayilearned  22\n",
       "9                  r/gifs  21\n",
       "46               r/gaming  20\n",
       "24                 r/pics  18\n",
       "77    r/interestingasfuck  15\n",
       "111          r/FortNiteBR  12\n",
       "82            r/AskReddit  12"
      ]
     },
     "execution_count": 235,
     "metadata": {},
     "output_type": "execute_result"
    }
   ],
   "source": [
    "counts_df2.head(10)"
   ]
  },
  {
   "cell_type": "markdown",
   "metadata": {},
   "source": [
    "Before getting into modeling part to predict the high number of comments, functions above extracts the top 10 most occurring words in titles and top 10 subreddit sentences in subreddits to approximately see what words or sentences could drive the higher number of comments. Based on the result, it can roughly show what type of models to use to predict the target, the high number of comments. \n",
    "\n",
    "For example, since words in title contains many meaningless data such as \"the, a, to, in, of, and, I, for, etc.\", this can be filtered out by using the Count Vectorizer method by setting the stop words as English which will filter out meaningless words to return only meaningful words. \n",
    "\n",
    "On the other hands, subreddits field cannot use Count Vectorizer method since it is a one chunk sentence and it cannot be broken down into pieces using Count Vectorizer method. Therefore, other modeling technique must be used."
   ]
  },
  {
   "cell_type": "markdown",
   "metadata": {},
   "source": [
    "<a id='Data Modeling'></a>\n",
    "# Data Modeling"
   ]
  },
  {
   "cell_type": "markdown",
   "metadata": {},
   "source": [
    "## Random Forest Model 1\n",
    "\n",
    "### Create a Random Forest model to predict High/Low number of comments using the subreddit as a feature. "
   ]
  },
  {
   "cell_type": "code",
   "execution_count": 240,
   "metadata": {
    "focus": false,
    "id": "ddbc6159-6854-4ca7-857f-bfecdaf6d9c2"
   },
   "outputs": [
    {
     "name": "stdout",
     "output_type": "stream",
     "text": [
      "Baseline Accuracy: 0.752\n",
      "1st Random Forest Model Score with Subreddit: 0.838\n",
      "1st Random Forest 5 Folds Cross-Validation Score: 0.836\n"
     ]
    }
   ],
   "source": [
    "# Define X and y\n",
    "X = pd.get_dummies(df['subreddit'])\n",
    "y = df['high_comments']\n",
    "\n",
    "# Split X and y in half into test and train sets.\n",
    "X_train, X_test, y_train, y_test = train_test_split(X, y, test_size=0.5)\n",
    "\n",
    "# Use Random Forest Classifier model\n",
    "# Fit X_train and y_train to predict\n",
    "rand_forest1 = RandomForestClassifier()\n",
    "rand_forest1.fit(X_train, y_train)\n",
    "\n",
    "# Predict score result using X_test and y_test \n",
    "# Use Cross Validation Score to check how accurate the model is\n",
    "score = rand_forest1.score(X_test, y_test)\n",
    "cvs = cross_val_score(rand_forest1, X_test, y_test, cv=5).mean()\n",
    "\n",
    "print('Baseline Accuracy:', baseline)\n",
    "print('1st Random Forest Model Score with Subreddit:', score)\n",
    "print('1st Random Forest 5 Folds Cross-Validation Score:', cvs)"
   ]
  },
  {
   "cell_type": "markdown",
   "metadata": {},
   "source": [
    "The first random forest model score result using only subreddit as a feature to predict the high number of comments show that it is approximately 86% correct in predicting high comments (target) just using subreddits (feature). \n",
    "\n",
    "In addition, the 5 folds cross-validation score result show that the random forest model is approximately 82% correct in predicting the high comments. The cross-validation method reduces overfitting (variance) by splitting the training sets into 5 different sets to predict the y-value (high comments) which will deliver more accurate result. \n",
    "\n",
    "Based on this result, this model performs better than the baseline by 11% better on random forest model alone, 7% better with 5 folds cross-validation."
   ]
  },
  {
   "cell_type": "code",
   "execution_count": 241,
   "metadata": {
    "collapsed": true
   },
   "outputs": [],
   "source": [
    "# Function that calculates and show confusion matrix.\n",
    "def conf_mat(y_test, preds): # Define a function that takes y_test and preds as arguments.\n",
    "    tn, fp, fn, tp = confusion_matrix(y_test, preds).ravel() # This splits the confusion matrix as true negative, false positive, false negative, and true positive. \n",
    "    print('Confusion Matrix:\\n', confusion_matrix(y_test, preds)) # This shows confusion matrix chart.\n",
    "    print('Accuracy:', (tp + tn)/(tp+fn+fp+tn)) # Formula for accuracy.\n",
    "    print('Misclassification:', 1 - ((tp + tn)/(tp+fn+fp+tn))) # Formula for misclassification.\n",
    "    print('Sensitivity', tp/(tp + fn)) # Formula for sensitivity.\n",
    "    print('specificity', tn/(tn+fp)) # Formula for specificity.\n",
    "    print('precision', tp/(tp+fp)) # Formula for precision."
   ]
  },
  {
   "cell_type": "code",
   "execution_count": 242,
   "metadata": {},
   "outputs": [
    {
     "name": "stdout",
     "output_type": "stream",
     "text": [
      "Confusion Matrix:\n",
      " [[353  12]\n",
      " [ 69  66]]\n",
      "Accuracy: 0.838\n",
      "Misclassification: 0.162\n",
      "Sensitivity 0.488888888889\n",
      "specificity 0.967123287671\n",
      "precision 0.846153846154\n"
     ]
    }
   ],
   "source": [
    "rand_forest1_preds = rand_forest1.predict(X_test) # Predicts y-value using the first random forest model using x-test set.\n",
    "conf_mat(y_test, rand_forest1_preds) # Show confusion matrix and calculate all the formulas in the function."
   ]
  },
  {
   "cell_type": "markdown",
   "metadata": {},
   "source": [
    "The confusion matrix for the first random forest model shows...\n",
    "\n",
    "- **Accuracy:** In overall, 81% correct on predicting high comments.\n",
    "\n",
    "- **Misclassification:** In overall, it is 18% wrong on predicting high comments.\n",
    "\n",
    "- **Sensitivity:** It correctly identified high comments 45% out of all true high comments.\n",
    "\n",
    "- **Specificity:** It correctly identified low comments 94% out of all true low comments.\n",
    "\n",
    "- **Precision:** It correctly identified the number of high comments 73% out of all threads that the model predicts are the high comments."
   ]
  },
  {
   "cell_type": "markdown",
   "metadata": {},
   "source": [
    "## Random Forest Model 2"
   ]
  },
  {
   "cell_type": "code",
   "execution_count": 243,
   "metadata": {
    "collapsed": true,
    "scrolled": false
   },
   "outputs": [],
   "source": [
    "# Feature engineering new columns\n",
    "df['cat_in_title'] = [1 if 'cat' in each.lower() else 0 for each in df['title']]\n",
    "df['funny_in_title'] = [1 if 'funny' in each.lower() else 0 for each in df['title']]\n",
    "df['musk_in_title'] = [1 if 'musk' in each.lower() else 0 for each in df['title']]\n",
    "df['trump_in_title'] = [1 if 'trump' in each.lower() else 0 for each in df['title']]"
   ]
  },
  {
   "cell_type": "code",
   "execution_count": 244,
   "metadata": {},
   "outputs": [
    {
     "data": {
      "text/html": [
       "<div>\n",
       "<style>\n",
       "    .dataframe thead tr:only-child th {\n",
       "        text-align: right;\n",
       "    }\n",
       "\n",
       "    .dataframe thead th {\n",
       "        text-align: left;\n",
       "    }\n",
       "\n",
       "    .dataframe tbody tr th {\n",
       "        vertical-align: top;\n",
       "    }\n",
       "</style>\n",
       "<table border=\"1\" class=\"dataframe\">\n",
       "  <thead>\n",
       "    <tr style=\"text-align: right;\">\n",
       "      <th></th>\n",
       "      <th>number_of_comments</th>\n",
       "      <th>subreddit</th>\n",
       "      <th>time</th>\n",
       "      <th>title</th>\n",
       "      <th>high_comments</th>\n",
       "      <th>cat_in_title</th>\n",
       "      <th>funny_in_title</th>\n",
       "      <th>musk_in_title</th>\n",
       "      <th>trump_in_title</th>\n",
       "    </tr>\n",
       "  </thead>\n",
       "  <tbody>\n",
       "    <tr>\n",
       "      <th>0</th>\n",
       "      <td>570</td>\n",
       "      <td>r/aww</td>\n",
       "      <td>Wed Feb 21 19:50:46 2018 UTC</td>\n",
       "      <td>Found this guy under my car this morning. Spen...</td>\n",
       "      <td>1</td>\n",
       "      <td>0</td>\n",
       "      <td>0</td>\n",
       "      <td>0</td>\n",
       "      <td>0</td>\n",
       "    </tr>\n",
       "    <tr>\n",
       "      <th>1</th>\n",
       "      <td>448</td>\n",
       "      <td>r/funny</td>\n",
       "      <td>Wed Feb 21 19:55:10 2018 UTC</td>\n",
       "      <td>When the student refuses to cooperate (r/Legit...</td>\n",
       "      <td>1</td>\n",
       "      <td>1</td>\n",
       "      <td>0</td>\n",
       "      <td>0</td>\n",
       "      <td>0</td>\n",
       "    </tr>\n",
       "    <tr>\n",
       "      <th>2</th>\n",
       "      <td>146</td>\n",
       "      <td>r/oddlysatisfying</td>\n",
       "      <td>Wed Feb 21 20:14:16 2018 UTC</td>\n",
       "      <td>Heavy rain leaves trail under crystalline wate...</td>\n",
       "      <td>0</td>\n",
       "      <td>0</td>\n",
       "      <td>0</td>\n",
       "      <td>0</td>\n",
       "      <td>0</td>\n",
       "    </tr>\n",
       "    <tr>\n",
       "      <th>3</th>\n",
       "      <td>640</td>\n",
       "      <td>r/history</td>\n",
       "      <td>Wed Feb 21 19:36:14 2018 UTC</td>\n",
       "      <td>New \"Discovery Mode\" turns video game \"Assassi...</td>\n",
       "      <td>1</td>\n",
       "      <td>0</td>\n",
       "      <td>0</td>\n",
       "      <td>0</td>\n",
       "      <td>0</td>\n",
       "    </tr>\n",
       "    <tr>\n",
       "      <th>4</th>\n",
       "      <td>633</td>\n",
       "      <td>r/web_design</td>\n",
       "      <td>Wed Feb 21 17:43:34 2018 UTC</td>\n",
       "      <td>Animated login avatar&lt;form&gt; (v.redd.it)</td>\n",
       "      <td>1</td>\n",
       "      <td>0</td>\n",
       "      <td>0</td>\n",
       "      <td>0</td>\n",
       "      <td>0</td>\n",
       "    </tr>\n",
       "  </tbody>\n",
       "</table>\n",
       "</div>"
      ],
      "text/plain": [
       "   number_of_comments          subreddit                          time  \\\n",
       "0                 570              r/aww  Wed Feb 21 19:50:46 2018 UTC   \n",
       "1                 448            r/funny  Wed Feb 21 19:55:10 2018 UTC   \n",
       "2                 146  r/oddlysatisfying  Wed Feb 21 20:14:16 2018 UTC   \n",
       "3                 640          r/history  Wed Feb 21 19:36:14 2018 UTC   \n",
       "4                 633       r/web_design  Wed Feb 21 17:43:34 2018 UTC   \n",
       "\n",
       "                                               title  high_comments  \\\n",
       "0  Found this guy under my car this morning. Spen...              1   \n",
       "1  When the student refuses to cooperate (r/Legit...              1   \n",
       "2  Heavy rain leaves trail under crystalline wate...              0   \n",
       "3  New \"Discovery Mode\" turns video game \"Assassi...              1   \n",
       "4            Animated login avatar<form> (v.redd.it)              1   \n",
       "\n",
       "   cat_in_title  funny_in_title  musk_in_title  trump_in_title  \n",
       "0             0               0              0               0  \n",
       "1             1               0              0               0  \n",
       "2             0               0              0               0  \n",
       "3             0               0              0               0  \n",
       "4             0               0              0               0  "
      ]
     },
     "execution_count": 244,
     "metadata": {},
     "output_type": "execute_result"
    }
   ],
   "source": [
    "df.head()"
   ]
  },
  {
   "cell_type": "code",
   "execution_count": 245,
   "metadata": {},
   "outputs": [
    {
     "name": "stdout",
     "output_type": "stream",
     "text": [
      "Baseline Accuracy: 0.752\n",
      "2nd Random Forest Model Score with Words in Title: 0.764\n",
      "2nd Random Forest 5 Folds Cross-Validation Score: 0.75999039904\n"
     ]
    }
   ],
   "source": [
    "# Define X and y\n",
    "X = df[['cat_in_title', 'funny_in_title', 'musk_in_title', 'trump_in_title']]\n",
    "y = df['high_comments']\n",
    "\n",
    "# Split X and y in half into test and train sets.\n",
    "X_train, X_test, y_train, y_test = train_test_split(X, y, test_size=0.5)\n",
    "\n",
    "# Use Random Forest Classifier model\n",
    "# Fit X_train and y_train to predict\n",
    "rand_forest2 = RandomForestClassifier()\n",
    "rand_forest2.fit(X_train, y_train)\n",
    "\n",
    "# Predict score result using X_test and y_test \n",
    "# Use Cross Validation Score to check how accurate the model is\n",
    "score = rand_forest2.score(X_test, y_test)\n",
    "cvs = cross_val_score(rand_forest2, X_test, y_test, cv=5).mean()\n",
    "\n",
    "print('Baseline Accuracy:', baseline)\n",
    "print('2nd Random Forest Model Score with Words in Title:', score)\n",
    "print('2nd Random Forest 5 Folds Cross-Validation Score:', cvs)"
   ]
  },
  {
   "cell_type": "code",
   "execution_count": 246,
   "metadata": {},
   "outputs": [
    {
     "name": "stdout",
     "output_type": "stream",
     "text": [
      "Value Counts for Word Cat:\n",
      " 0    910\n",
      "1     90\n",
      "Name: cat_in_title, dtype: int64\n",
      "Value Counts for Word Funny:\n",
      " 0    994\n",
      "1      6\n",
      "Name: funny_in_title, dtype: int64\n",
      "Value Counts for Word Musk:\n",
      " 0    993\n",
      "1      7\n",
      "Name: musk_in_title, dtype: int64\n",
      "Value Counts for Word Trump:\n",
      " 0    996\n",
      "1      4\n",
      "Name: trump_in_title, dtype: int64\n"
     ]
    }
   ],
   "source": [
    "print(\"Value Counts for Word Cat:\\n\", df['cat_in_title'].value_counts())\n",
    "print(\"Value Counts for Word Funny:\\n\", df['funny_in_title'].value_counts())\n",
    "print(\"Value Counts for Word Musk:\\n\", df['musk_in_title'].value_counts())\n",
    "print(\"Value Counts for Word Trump:\\n\", df['trump_in_title'].value_counts())"
   ]
  },
  {
   "cell_type": "code",
   "execution_count": 247,
   "metadata": {},
   "outputs": [
    {
     "name": "stdout",
     "output_type": "stream",
     "text": [
      "Confusion Matrix:\n",
      " [[377   2]\n",
      " [116   5]]\n",
      "Accuracy: 0.764\n",
      "Misclassification: 0.236\n",
      "Sensitivity 0.0413223140496\n",
      "specificity 0.994722955145\n",
      "precision 0.714285714286\n"
     ]
    }
   ],
   "source": [
    "rand_forest2_preds = rand_forest2.predict(X_test)\n",
    "conf_mat(y_test, rand_forest2_preds)"
   ]
  },
  {
   "cell_type": "markdown",
   "metadata": {},
   "source": [
    "I have performed feature engineering by creating 4 new columns to extract words cat, funny, musk, and trump in the title to see if these 4 words have any effects on predicting high comments. \n",
    "\n",
    "The model score result shows that these words do not bring any values in predicting the high comments since it performs where the baseline accuracy is (75%).  \n",
    "\n",
    "\n",
    "In addition, value counts for these 4 words show that these 4 words do not appear often in the title to generate enough data to make an impact on the model or maybe these 4 words do not have any relationship in predicting the high comments. \n",
    "\n",
    "Due to my personal curiosity, I will feature engineer two more columns to see if the length of title and the post that was posted in the noon or morning can affect in predicting the high number of comments."
   ]
  },
  {
   "cell_type": "markdown",
   "metadata": {},
   "source": [
    "The confusion matrix for the second random forest model shows...\n",
    "\n",
    "- **Accuracy:** In overall, 77% correct on predicting high comments.\n",
    "\n",
    "- **Misclassification:** In overall, it is 23% wrong on predicting high comments.\n",
    "\n",
    "- **Sensitivity:** It correctly identified high comments 3% out of all true high comments.\n",
    "\n",
    "- **Specificity:** It correctly identified low comments 99% out of all true low comments.\n",
    "\n",
    "- **Precision:** It correctly identified the number of high comments 80% out of all threads that the model predicts are the high comments."
   ]
  },
  {
   "cell_type": "markdown",
   "metadata": {},
   "source": [
    "## Random Forest Model 3"
   ]
  },
  {
   "cell_type": "code",
   "execution_count": 248,
   "metadata": {
    "collapsed": true
   },
   "outputs": [],
   "source": [
    "# Set column title to a variable called title to pass through the function.\n",
    "title = df['title']\n",
    "\n",
    "def avg_title_length(title): # Define a function that takes in title as argument.\n",
    "    title_length = [] # Empty list to append title length.\n",
    "    for i in title: # Iterate through title that I've set up earlier to extract titles.\n",
    "        title_length.append(len(i)) # Get length of each title in fetch_title.\n",
    "    return title_length "
   ]
  },
  {
   "cell_type": "code",
   "execution_count": 249,
   "metadata": {},
   "outputs": [
    {
     "name": "stdout",
     "output_type": "stream",
     "text": [
      "Average Length for Title: 70.406\n"
     ]
    }
   ],
   "source": [
    "# Set funtion that have length of title as a variable list_of_lengths.\n",
    "list_of_lengths = avg_title_length(title)\n",
    "\n",
    "# Caculate average length of title and average is 70.11\n",
    "average_length = sum(list_of_lengths)/len(list_of_lengths)\n",
    "print('Average Length for Title:', average_length)"
   ]
  },
  {
   "cell_type": "code",
   "execution_count": 250,
   "metadata": {
    "collapsed": true
   },
   "outputs": [],
   "source": [
    "# Feature engineer new column title_length that stores all length of title\n",
    "df['title_length'] = avg_title_length(title)\n",
    "\n",
    "# Create another column title_length_avg that converts any \n",
    "# title length that are higher than average into 1 else 0.\n",
    "df['title_length_avg'] = df['title_length'].map(lambda x: 1 if x > average_length else 0)"
   ]
  },
  {
   "cell_type": "code",
   "execution_count": 251,
   "metadata": {
    "collapsed": true
   },
   "outputs": [],
   "source": [
    "# Feature engineer time to set 1 if time is greater than 12 else 0\n",
    "df['afternoon/morning_time'] = [1 if i[11:13] > '12' else 0 for i in df['time']]"
   ]
  },
  {
   "cell_type": "code",
   "execution_count": 252,
   "metadata": {
    "scrolled": true
   },
   "outputs": [
    {
     "data": {
      "text/html": [
       "<div>\n",
       "<style>\n",
       "    .dataframe thead tr:only-child th {\n",
       "        text-align: right;\n",
       "    }\n",
       "\n",
       "    .dataframe thead th {\n",
       "        text-align: left;\n",
       "    }\n",
       "\n",
       "    .dataframe tbody tr th {\n",
       "        vertical-align: top;\n",
       "    }\n",
       "</style>\n",
       "<table border=\"1\" class=\"dataframe\">\n",
       "  <thead>\n",
       "    <tr style=\"text-align: right;\">\n",
       "      <th></th>\n",
       "      <th>number_of_comments</th>\n",
       "      <th>subreddit</th>\n",
       "      <th>time</th>\n",
       "      <th>title</th>\n",
       "      <th>high_comments</th>\n",
       "      <th>cat_in_title</th>\n",
       "      <th>funny_in_title</th>\n",
       "      <th>musk_in_title</th>\n",
       "      <th>trump_in_title</th>\n",
       "      <th>title_length</th>\n",
       "      <th>title_length_avg</th>\n",
       "      <th>afternoon/morning_time</th>\n",
       "    </tr>\n",
       "  </thead>\n",
       "  <tbody>\n",
       "    <tr>\n",
       "      <th>0</th>\n",
       "      <td>570</td>\n",
       "      <td>r/aww</td>\n",
       "      <td>Wed Feb 21 19:50:46 2018 UTC</td>\n",
       "      <td>Found this guy under my car this morning. Spen...</td>\n",
       "      <td>1</td>\n",
       "      <td>0</td>\n",
       "      <td>0</td>\n",
       "      <td>0</td>\n",
       "      <td>0</td>\n",
       "      <td>114</td>\n",
       "      <td>1</td>\n",
       "      <td>1</td>\n",
       "    </tr>\n",
       "    <tr>\n",
       "      <th>1</th>\n",
       "      <td>448</td>\n",
       "      <td>r/funny</td>\n",
       "      <td>Wed Feb 21 19:55:10 2018 UTC</td>\n",
       "      <td>When the student refuses to cooperate (r/Legit...</td>\n",
       "      <td>1</td>\n",
       "      <td>1</td>\n",
       "      <td>0</td>\n",
       "      <td>0</td>\n",
       "      <td>0</td>\n",
       "      <td>71</td>\n",
       "      <td>1</td>\n",
       "      <td>1</td>\n",
       "    </tr>\n",
       "    <tr>\n",
       "      <th>2</th>\n",
       "      <td>146</td>\n",
       "      <td>r/oddlysatisfying</td>\n",
       "      <td>Wed Feb 21 20:14:16 2018 UTC</td>\n",
       "      <td>Heavy rain leaves trail under crystalline wate...</td>\n",
       "      <td>0</td>\n",
       "      <td>0</td>\n",
       "      <td>0</td>\n",
       "      <td>0</td>\n",
       "      <td>0</td>\n",
       "      <td>96</td>\n",
       "      <td>1</td>\n",
       "      <td>1</td>\n",
       "    </tr>\n",
       "    <tr>\n",
       "      <th>3</th>\n",
       "      <td>640</td>\n",
       "      <td>r/history</td>\n",
       "      <td>Wed Feb 21 19:36:14 2018 UTC</td>\n",
       "      <td>New \"Discovery Mode\" turns video game \"Assassi...</td>\n",
       "      <td>1</td>\n",
       "      <td>0</td>\n",
       "      <td>0</td>\n",
       "      <td>0</td>\n",
       "      <td>0</td>\n",
       "      <td>184</td>\n",
       "      <td>1</td>\n",
       "      <td>1</td>\n",
       "    </tr>\n",
       "    <tr>\n",
       "      <th>4</th>\n",
       "      <td>633</td>\n",
       "      <td>r/web_design</td>\n",
       "      <td>Wed Feb 21 17:43:34 2018 UTC</td>\n",
       "      <td>Animated login avatar&lt;form&gt; (v.redd.it)</td>\n",
       "      <td>1</td>\n",
       "      <td>0</td>\n",
       "      <td>0</td>\n",
       "      <td>0</td>\n",
       "      <td>0</td>\n",
       "      <td>39</td>\n",
       "      <td>0</td>\n",
       "      <td>1</td>\n",
       "    </tr>\n",
       "  </tbody>\n",
       "</table>\n",
       "</div>"
      ],
      "text/plain": [
       "   number_of_comments          subreddit                          time  \\\n",
       "0                 570              r/aww  Wed Feb 21 19:50:46 2018 UTC   \n",
       "1                 448            r/funny  Wed Feb 21 19:55:10 2018 UTC   \n",
       "2                 146  r/oddlysatisfying  Wed Feb 21 20:14:16 2018 UTC   \n",
       "3                 640          r/history  Wed Feb 21 19:36:14 2018 UTC   \n",
       "4                 633       r/web_design  Wed Feb 21 17:43:34 2018 UTC   \n",
       "\n",
       "                                               title  high_comments  \\\n",
       "0  Found this guy under my car this morning. Spen...              1   \n",
       "1  When the student refuses to cooperate (r/Legit...              1   \n",
       "2  Heavy rain leaves trail under crystalline wate...              0   \n",
       "3  New \"Discovery Mode\" turns video game \"Assassi...              1   \n",
       "4            Animated login avatar<form> (v.redd.it)              1   \n",
       "\n",
       "   cat_in_title  funny_in_title  musk_in_title  trump_in_title  title_length  \\\n",
       "0             0               0              0               0           114   \n",
       "1             1               0              0               0            71   \n",
       "2             0               0              0               0            96   \n",
       "3             0               0              0               0           184   \n",
       "4             0               0              0               0            39   \n",
       "\n",
       "   title_length_avg  afternoon/morning_time  \n",
       "0                 1                       1  \n",
       "1                 1                       1  \n",
       "2                 1                       1  \n",
       "3                 1                       1  \n",
       "4                 0                       1  "
      ]
     },
     "execution_count": 252,
     "metadata": {},
     "output_type": "execute_result"
    }
   ],
   "source": [
    "df.head()"
   ]
  },
  {
   "cell_type": "code",
   "execution_count": 253,
   "metadata": {},
   "outputs": [
    {
     "name": "stdout",
     "output_type": "stream",
     "text": [
      "Baseline Accuracy: 0.752\n",
      "3rd Random Forest Model Score\n",
      "with Title Length and Afternoon/Morning Time: 0.766\n",
      "3rd Random Forest 5 Folds Cross-Validation Score: 0.758\n"
     ]
    }
   ],
   "source": [
    "# Define X and y\n",
    "X = df[['title_length_avg', 'afternoon/morning_time']]\n",
    "y = df['high_comments']\n",
    "\n",
    "# Split X and y in half into test and train sets.\n",
    "X_train, X_test, y_train, y_test = train_test_split(X, y, test_size=0.5)\n",
    "\n",
    "# Use Random Forest Classifier model\n",
    "# Fit X_train and y_train to predict\n",
    "rand_forest3 = RandomForestClassifier()\n",
    "rand_forest3.fit(X_train, y_train)\n",
    "\n",
    "# Predict score result using X_test and y_test \n",
    "# Use Cross Validation Score to check how accurate the model is\n",
    "score = rand_forest3.score(X_test, y_test)\n",
    "cvs = cross_val_score(rand_forest3, X_test, y_test, cv=5).mean()\n",
    "\n",
    "print('Baseline Accuracy:', baseline)\n",
    "print('3rd Random Forest Model Score\\nwith Title Length and Afternoon/Morning Time:', score)\n",
    "print('3rd Random Forest 5 Folds Cross-Validation Score:', cvs)"
   ]
  },
  {
   "cell_type": "code",
   "execution_count": 254,
   "metadata": {},
   "outputs": [
    {
     "name": "stdout",
     "output_type": "stream",
     "text": [
      "Confusion Matrix:\n",
      " [[363  17]\n",
      " [100  20]]\n",
      "Accuracy: 0.766\n",
      "Misclassification: 0.234\n",
      "Sensitivity 0.166666666667\n",
      "specificity 0.955263157895\n",
      "precision 0.540540540541\n"
     ]
    }
   ],
   "source": [
    "rand_forest3_preds = rand_forest3.predict(X_test)\n",
    "conf_mat(y_test, rand_forest3_preds)"
   ]
  },
  {
   "cell_type": "markdown",
   "metadata": {},
   "source": [
    "3rd random forest model that uses title length and afternoon and morning time as features perform approximately where the baseline accuracy is (75%). Therefore, this model is also not a good model for predicting the high number of comments. "
   ]
  },
  {
   "cell_type": "markdown",
   "metadata": {},
   "source": [
    "The confusion matrix for the 3rd random forest model shows...\n",
    "\n",
    "- **Accuracy:** In overall, 75% correct on predicting high comments.\n",
    "\n",
    "- **Misclassification:** In overall, it is 25% wrong on predicting high comments.\n",
    "\n",
    "- **Sensitivity:** It correctly identified high comments 14% out of all true high comments.\n",
    "\n",
    "- **Specificity:** It correctly identified low comments 95% out of all true low comments.\n",
    "\n",
    "- **Precision:** It correctly identified the number of high comments 50% out of all threads that the model predicts are the high comments."
   ]
  },
  {
   "cell_type": "markdown",
   "metadata": {},
   "source": [
    "#### Repeat the model-building process with a non-tree-based method."
   ]
  },
  {
   "cell_type": "markdown",
   "metadata": {},
   "source": [
    "## Logistic Regression Model 1"
   ]
  },
  {
   "cell_type": "code",
   "execution_count": 255,
   "metadata": {},
   "outputs": [
    {
     "name": "stdout",
     "output_type": "stream",
     "text": [
      "Baseline Accuracy: 0.752\n",
      "1st Logistic Regression Model Score with Subreddit Feature: 0.786\n",
      "1st Logistic Regression 5 Folds Cross-Validation Score: 0.7619609961\n"
     ]
    }
   ],
   "source": [
    "# Define X and y\n",
    "X = pd.get_dummies(df['subreddit'])\n",
    "y = df['high_comments']\n",
    "\n",
    "# Split X and y in half into test and train sets.\n",
    "X_train, X_test, y_train, y_test = train_test_split(X, y, test_size=0.5)\n",
    "\n",
    "# Use Logistic Regression model\n",
    "# Fit X_train and y_train to predict\n",
    "logreg1 = LogisticRegression()\n",
    "logreg1.fit(X_train, y_train)\n",
    "\n",
    "# Predict score result using X_test and y_test \n",
    "# Use Cross Validation Score to check how accurate the model is\n",
    "score = logreg1.score(X_test, y_test)\n",
    "cvs = cross_val_score(logreg1, X_test, y_test, cv=5).mean()\n",
    "\n",
    "print('Baseline Accuracy:', baseline)\n",
    "print('1st Logistic Regression Model Score with Subreddit Feature:', score)\n",
    "print('1st Logistic Regression 5 Folds Cross-Validation Score:', cvs)"
   ]
  },
  {
   "cell_type": "markdown",
   "metadata": {},
   "source": [
    "Using Logistic Regression and subreddit as a feature, this model performs approximately 78% accurate on predicting the high number of comments and 78% with 5 folds cross-validation score. This model performs slightly better than the baseline accuracy by approximately 3%."
   ]
  },
  {
   "cell_type": "code",
   "execution_count": 256,
   "metadata": {},
   "outputs": [
    {
     "name": "stdout",
     "output_type": "stream",
     "text": [
      "Confusion Matrix:\n",
      " [[377   1]\n",
      " [106  16]]\n",
      "Accuracy: 0.786\n",
      "Misclassification: 0.214\n",
      "Sensitivity 0.131147540984\n",
      "specificity 0.997354497354\n",
      "precision 0.941176470588\n"
     ]
    }
   ],
   "source": [
    "logreg1_preds = logreg1.predict(X_test)\n",
    "conf_mat(y_test, logreg1_preds)"
   ]
  },
  {
   "cell_type": "markdown",
   "metadata": {},
   "source": [
    "The confusion matrix for the first logistic regression model shows...\n",
    "\n",
    "- **Accuracy:** In overall, 79% correct on predicting high comments.\n",
    "\n",
    "- **Misclassification:** In overall, it is 21% wrong on predicting high comments.\n",
    "\n",
    "- **Sensitivity:** It correctly identified high comments 11% out of all true high comments.\n",
    "\n",
    "- **Specificity:** It correctly identified low comments 100% out of all true low comments.\n",
    "\n",
    "- **Precision:** It correctly identified the number of high comments 100% out of all threads that the model predicts are the high comments."
   ]
  },
  {
   "cell_type": "markdown",
   "metadata": {},
   "source": [
    "## Logistic Regression Model 2"
   ]
  },
  {
   "cell_type": "code",
   "execution_count": 257,
   "metadata": {},
   "outputs": [
    {
     "name": "stdout",
     "output_type": "stream",
     "text": [
      "Baseline Accuracy: 0.752\n",
      "Logistic Regression Model Score: 0.772\n",
      "5 Folds Cross-Validation Score: 0.77\n"
     ]
    }
   ],
   "source": [
    "# Define X and y\n",
    "X = df[['cat_in_title', 'funny_in_title', 'musk_in_title', 'trump_in_title']]\n",
    "y = df['high_comments']\n",
    "\n",
    "# Split X and y in half into test and train sets.\n",
    "X_train, X_test, y_train, y_test = train_test_split(X, y, test_size=0.5)\n",
    "\n",
    "# Use Logistic Regression model\n",
    "# Fit X_train and y_train to predict\n",
    "logreg2 = LogisticRegression()\n",
    "logreg2.fit(X_train, y_train)\n",
    "\n",
    "# Predict score result using X_test and y_test \n",
    "# Use Cross Validation Score to check how accurate the model is\n",
    "score = logreg2.score(X_test, y_test)\n",
    "cvs = cross_val_score(logreg2, X_test, y_test, cv=5).mean()\n",
    "\n",
    "print('Baseline Accuracy:', baseline)\n",
    "print('Logistic Regression Model Score:', score)\n",
    "print('5 Folds Cross-Validation Score:', cvs)"
   ]
  },
  {
   "cell_type": "code",
   "execution_count": 258,
   "metadata": {},
   "outputs": [
    {
     "name": "stdout",
     "output_type": "stream",
     "text": [
      "Confusion Matrix:\n",
      " [[385   0]\n",
      " [114   1]]\n",
      "Accuracy: 0.772\n",
      "Misclassification: 0.228\n",
      "Sensitivity 0.00869565217391\n",
      "specificity 1.0\n",
      "precision 1.0\n"
     ]
    }
   ],
   "source": [
    "logreg2_preds = logreg2.predict(X_test)\n",
    "conf_mat(y_test, logreg2_preds)"
   ]
  },
  {
   "cell_type": "markdown",
   "metadata": {},
   "source": [
    "The confusion matrix for the 2nd logistic regression model shows...\n",
    "\n",
    "- **Accuracy:** In overall, 76% correct on predicting high comments.\n",
    "\n",
    "- **Misclassification:** In overall, it is 24% wrong on predicting high comments.\n",
    "\n",
    "- **Sensitivity:** It correctly identified high comments 2% out of all true high comments.\n",
    "\n",
    "- **Specificity:** It correctly identified low comments 100% out of all true low comments.\n",
    "\n",
    "- **Precision:** It correctly identified the number of high comments 100% out of all threads that the model predicts are the high comments."
   ]
  },
  {
   "cell_type": "markdown",
   "metadata": {},
   "source": [
    "## Logistic Regression Model 3"
   ]
  },
  {
   "cell_type": "code",
   "execution_count": 259,
   "metadata": {},
   "outputs": [
    {
     "name": "stdout",
     "output_type": "stream",
     "text": [
      "Baseline Accuracy: 0.752\n",
      "Logistic Regression Model Score: 0.742\n",
      "5 Folds Cross-Validation Score: 0.742149214921\n"
     ]
    }
   ],
   "source": [
    "# Define X and y\n",
    "X = df[['title_length_avg', 'afternoon/morning_time']]\n",
    "y = df['high_comments']\n",
    "\n",
    "# Split X and y in half into test and train sets.\n",
    "X_train, X_test, y_train, y_test = train_test_split(X, y, test_size=0.5)\n",
    "\n",
    "# Use Logistic Regression model\n",
    "# Fit X_train and y_train to predict\n",
    "logreg3 = LogisticRegression()\n",
    "logreg3.fit(X_train, y_train)\n",
    "\n",
    "# Predict score result using X_test and y_test \n",
    "# Use Cross Validation Score to check how accurate the model is\n",
    "score = logreg3.score(X_test, y_test)\n",
    "cvs = cross_val_score(logreg3, X_test, y_test, cv=5).mean()\n",
    "\n",
    "print('Baseline Accuracy:', baseline)\n",
    "print('Logistic Regression Model Score:', score)\n",
    "print('5 Folds Cross-Validation Score:', cvs)"
   ]
  },
  {
   "cell_type": "markdown",
   "metadata": {},
   "source": [
    "Using Logistic Regression, words cat, funny, musk, and trump as features for the 2nd model and title length and afternoon/morning time as features for the 3rd model, both models perform where the baseline is 75%.\n",
    "Therefore, I can conclude that these features do not add any values for predicting the high number of comments."
   ]
  },
  {
   "cell_type": "code",
   "execution_count": 260,
   "metadata": {},
   "outputs": [
    {
     "name": "stdout",
     "output_type": "stream",
     "text": [
      "Confusion Matrix:\n",
      " [[351  15]\n",
      " [114  20]]\n",
      "Accuracy: 0.742\n",
      "Misclassification: 0.258\n",
      "Sensitivity 0.149253731343\n",
      "specificity 0.959016393443\n",
      "precision 0.571428571429\n"
     ]
    }
   ],
   "source": [
    "logreg3_preds = logreg3.predict(X_test)\n",
    "conf_mat(y_test, logreg3_preds)"
   ]
  },
  {
   "cell_type": "markdown",
   "metadata": {},
   "source": [
    "The confusion matrix for the 3rd logistic regression model shows...\n",
    "\n",
    "- **Accuracy:** In overall, 74% correct on predicting high comments.\n",
    "\n",
    "- **Misclassification:** In overall, it is 25% wrong on predicting high comments.\n",
    "\n",
    "- **Sensitivity:** It correctly identified high comments 14% out of all true high comments.\n",
    "\n",
    "- **Specificity:** It correctly identified low comments 96% out of all true low comments.\n",
    "\n",
    "- **Precision:** It correctly identified the number of high comments 57% out of all threads that the model predicts are the high comments."
   ]
  },
  {
   "cell_type": "markdown",
   "metadata": {},
   "source": [
    "## Grid Search on Logistic Regression Model 1"
   ]
  },
  {
   "cell_type": "code",
   "execution_count": 261,
   "metadata": {},
   "outputs": [
    {
     "name": "stdout",
     "output_type": "stream",
     "text": [
      "Fitting 5 folds for each of 8 candidates, totalling 40 fits\n"
     ]
    },
    {
     "name": "stderr",
     "output_type": "stream",
     "text": [
      "[Parallel(n_jobs=1)]: Done  40 out of  40 | elapsed:    0.1s finished\n"
     ]
    },
    {
     "data": {
      "text/plain": [
       "GridSearchCV(cv=5, error_score='raise',\n",
       "       estimator=LogisticRegression(C=1.0, class_weight=None, dual=False, fit_intercept=True,\n",
       "          intercept_scaling=1, max_iter=100, multi_class='ovr', n_jobs=1,\n",
       "          penalty='l2', random_state=None, solver='liblinear', tol=0.0001,\n",
       "          verbose=0, warm_start=False),\n",
       "       fit_params=None, iid=True, n_jobs=1,\n",
       "       param_grid={'penalty': ['l1', 'l2'], 'C': [0.001, 0.1, 1.0, 10.0]},\n",
       "       pre_dispatch='2*n_jobs', refit=True, return_train_score='warn',\n",
       "       scoring=None, verbose=1)"
      ]
     },
     "execution_count": 261,
     "metadata": {},
     "output_type": "execute_result"
    }
   ],
   "source": [
    "# Set X and y\n",
    "X = pd.get_dummies(df['subreddit'])\n",
    "y = df['high_comments']\n",
    "\n",
    "# Split X and y in half into test and train sets.\n",
    "X_train, X_test, y_train, y_test = train_test_split(X, y, test_size=0.5)\n",
    "\n",
    "# Set param_grid\n",
    "# method for penalty l1 = Lasso, l2 = Ridge\n",
    "# C is setting severity for penalty  \n",
    "params_grid = {'penalty': ['l1', 'l2'],'C': [.001, .1, 1.0, 10.0]}\n",
    "\n",
    "# Run Gridsearch using logreg1 model with 5 folds cross-validation\n",
    "gs = GridSearchCV(logreg1, params_grid, verbose=1, cv=5)\n",
    "gs.fit(X_train, y_train)"
   ]
  },
  {
   "cell_type": "code",
   "execution_count": 262,
   "metadata": {},
   "outputs": [
    {
     "name": "stdout",
     "output_type": "stream",
     "text": [
      "Best Logistic Regression Estimator:\n",
      "\t LogisticRegression(C=10.0, class_weight=None, dual=False, fit_intercept=True,\n",
      "          intercept_scaling=1, max_iter=100, multi_class='ovr', n_jobs=1,\n",
      "          penalty='l1', random_state=None, solver='liblinear', tol=0.0001,\n",
      "          verbose=0, warm_start=False)\n",
      "Logistic Regression Best Score: 0.856\n",
      "5 folds Cross-Validation Score: 0.824\n"
     ]
    }
   ],
   "source": [
    "best_logreg = gs.best_estimator_\n",
    "best_score = best_logreg.score(X_test, y_test)\n",
    "cvs = cross_val_score(best_logreg, X_test, y_test, cv=5).mean()\n",
    "\n",
    "print('Best Logistic Regression Estimator:\\n\\t', best_logreg)\n",
    "print('Logistic Regression Best Score:', best_score)\n",
    "print('5 folds Cross-Validation Score:', cvs)"
   ]
  },
  {
   "cell_type": "markdown",
   "metadata": {},
   "source": [
    "Using grid search model, this model tests multiple scores and picks out the best score to use. Since the feature subreddit performed the best to predict the high comments compared to other features, using grid search model with logistic regression will optimize the model and increase the accuracy of predicting the high comments.\n",
    "\n",
    "The result for optimized logistic regression shows that the score is approximately 86% correct on predicting high comments and with cross-validation score, it is approximately 83% correct in predicting the high comments. This model performs 11% better on itself and 8% better after 5 folds cross-validation."
   ]
  },
  {
   "cell_type": "code",
   "execution_count": 263,
   "metadata": {},
   "outputs": [
    {
     "name": "stdout",
     "output_type": "stream",
     "text": [
      "Confusion Matrix:\n",
      " [[361   9]\n",
      " [ 63  67]]\n",
      "Accuracy: 0.856\n",
      "Misclassification: 0.144\n",
      "Sensitivity 0.515384615385\n",
      "specificity 0.975675675676\n",
      "precision 0.881578947368\n"
     ]
    }
   ],
   "source": [
    "gs_preds = best_logreg.predict(X_test)\n",
    "conf_mat(y_test, gs_preds)"
   ]
  },
  {
   "cell_type": "markdown",
   "metadata": {},
   "source": [
    "The confusion matrix for the grid search for 1st logistic regression model shows...\n",
    "\n",
    "- **Accuracy:** In overall, 86% correct on predicting high comments.\n",
    "\n",
    "- **Misclassification:** In overall, it is 14% wrong on predicting high comments.\n",
    "\n",
    "- **Sensitivity:** It correctly identified high comments 52% out of all true high comments.\n",
    "\n",
    "- **Specificity:** It correctly identified low comments 98% out of all true low comments.\n",
    "\n",
    "- **Precision:** It correctly identified the number of high comments 88% out of all threads that the model predicts are the high comments."
   ]
  },
  {
   "cell_type": "code",
   "execution_count": 210,
   "metadata": {
    "collapsed": true
   },
   "outputs": [],
   "source": [
    "temp_df = pd.DataFrame()"
   ]
  },
  {
   "cell_type": "code",
   "execution_count": 211,
   "metadata": {
    "collapsed": true
   },
   "outputs": [],
   "source": [
    "temp_df['subreddits'] = X_train.columns\n",
    "temp_df['count'] = X_train.sum().values\n",
    "temp_df['coef'] = best_logreg.coef_[0]"
   ]
  },
  {
   "cell_type": "code",
   "execution_count": 212,
   "metadata": {},
   "outputs": [
    {
     "data": {
      "text/html": [
       "<div>\n",
       "<style>\n",
       "    .dataframe thead tr:only-child th {\n",
       "        text-align: right;\n",
       "    }\n",
       "\n",
       "    .dataframe thead th {\n",
       "        text-align: left;\n",
       "    }\n",
       "\n",
       "    .dataframe tbody tr th {\n",
       "        vertical-align: top;\n",
       "    }\n",
       "</style>\n",
       "<table border=\"1\" class=\"dataframe\">\n",
       "  <thead>\n",
       "    <tr style=\"text-align: right;\">\n",
       "      <th></th>\n",
       "      <th>subreddits</th>\n",
       "      <th>count</th>\n",
       "      <th>coef</th>\n",
       "    </tr>\n",
       "  </thead>\n",
       "  <tbody>\n",
       "    <tr>\n",
       "      <th>24</th>\n",
       "      <td>r/BlackPeopleTwitter</td>\n",
       "      <td>18</td>\n",
       "      <td>3.172901</td>\n",
       "    </tr>\n",
       "    <tr>\n",
       "      <th>189</th>\n",
       "      <td>r/funny</td>\n",
       "      <td>15</td>\n",
       "      <td>3.167854</td>\n",
       "    </tr>\n",
       "    <tr>\n",
       "      <th>197</th>\n",
       "      <td>r/gifs</td>\n",
       "      <td>14</td>\n",
       "      <td>3.862581</td>\n",
       "    </tr>\n",
       "    <tr>\n",
       "      <th>145</th>\n",
       "      <td>r/aww</td>\n",
       "      <td>12</td>\n",
       "      <td>3.160267</td>\n",
       "    </tr>\n",
       "    <tr>\n",
       "      <th>193</th>\n",
       "      <td>r/gaming</td>\n",
       "      <td>11</td>\n",
       "      <td>-0.800193</td>\n",
       "    </tr>\n",
       "    <tr>\n",
       "      <th>278</th>\n",
       "      <td>r/todayilearned</td>\n",
       "      <td>9</td>\n",
       "      <td>3.147678</td>\n",
       "    </tr>\n",
       "    <tr>\n",
       "      <th>246</th>\n",
       "      <td>r/pics</td>\n",
       "      <td>9</td>\n",
       "      <td>4.069403</td>\n",
       "    </tr>\n",
       "    <tr>\n",
       "      <th>295</th>\n",
       "      <td>r/worldnews</td>\n",
       "      <td>7</td>\n",
       "      <td>2.903768</td>\n",
       "    </tr>\n",
       "    <tr>\n",
       "      <th>215</th>\n",
       "      <td>r/interestingasfuck</td>\n",
       "      <td>7</td>\n",
       "      <td>2.903768</td>\n",
       "    </tr>\n",
       "    <tr>\n",
       "      <th>13</th>\n",
       "      <td>r/AskReddit</td>\n",
       "      <td>6</td>\n",
       "      <td>7.968692</td>\n",
       "    </tr>\n",
       "  </tbody>\n",
       "</table>\n",
       "</div>"
      ],
      "text/plain": [
       "               subreddits  count      coef\n",
       "24   r/BlackPeopleTwitter     18  3.172901\n",
       "189               r/funny     15  3.167854\n",
       "197                r/gifs     14  3.862581\n",
       "145                 r/aww     12  3.160267\n",
       "193              r/gaming     11 -0.800193\n",
       "278       r/todayilearned      9  3.147678\n",
       "246                r/pics      9  4.069403\n",
       "295           r/worldnews      7  2.903768\n",
       "215   r/interestingasfuck      7  2.903768\n",
       "13            r/AskReddit      6  7.968692"
      ]
     },
     "execution_count": 212,
     "metadata": {},
     "output_type": "execute_result"
    }
   ],
   "source": [
    "temp_df2 = temp_df.sort_values('count', ascending=False).head(10)\n",
    "temp_df2.head(10)"
   ]
  },
  {
   "cell_type": "code",
   "execution_count": 221,
   "metadata": {},
   "outputs": [
    {
     "data": {
      "image/png": "[encoded data removed]",
      "text/plain": [
       "<matplotlib.figure.Figure at 0x1a1a1b18d0>"
      ]
     },
     "metadata": {},
     "output_type": "display_data"
    }
   ],
   "source": [
    "ax = plt.axes()\n",
    "sns.barplot(x=\"count\", y=\"subreddits\", data=temp_df2)\n",
    "ax.set_title('Relationship Between Subreddits and High Comments by Count')\n",
    "plt.show();"
   ]
  },
  {
   "cell_type": "code",
   "execution_count": 222,
   "metadata": {},
   "outputs": [
    {
     "data": {
      "image/png": "[encoded data removed]",
      "text/plain": [
       "<matplotlib.figure.Figure at 0x1a1a22b908>"
      ]
     },
     "metadata": {},
     "output_type": "display_data"
    }
   ],
   "source": [
    "ax = plt.axes()\n",
    "sns.barplot(x=\"coef\", y=\"subreddits\", data=temp_df2)\n",
    "ax.set_title('Relationship Between Subreddits and High Comments by Coef')\n",
    "plt.show();"
   ]
  },
  {
   "cell_type": "markdown",
   "metadata": {},
   "source": [
    "The first bar graph shows the relationship between the top 10 subreddit and high comments by count. It is organized by the highest count to lowest meaning how many times it shows up in the subreddit. \n",
    "\n",
    "On the other hand, the second graph shows the actual relationship between the top 10 subreddit and the high comments by the coefficient. In this graph, it shows that the highest count subreddit does not have a high coefficient or relationship with the high comments. For example, \"r/AskReddit\" only appeared 6 times but have the highest coefficient 8."
   ]
  },
  {
   "cell_type": "markdown",
   "metadata": {},
   "source": [
    "## Count Vectorizer Random Forest Model 1"
   ]
  },
  {
   "cell_type": "markdown",
   "metadata": {
    "focus": false,
    "id": "db045898-1d2d-4af2-8e79-437c4c7546b4"
   },
   "source": [
    "#### Use Count Vectorizer from scikit-learn to create features from the thread titles. "
   ]
  },
  {
   "cell_type": "code",
   "execution_count": 33,
   "metadata": {},
   "outputs": [
    {
     "name": "stdout",
     "output_type": "stream",
     "text": [
      "Baseline Accuracy: 0.752\n",
      "Second Random Forest Model Score: 0.928\n",
      "5 Folds Cross-Validation Score: 0.808180872349\n"
     ]
    }
   ],
   "source": [
    "## YOUR CODE HERE\n",
    "X = df['title']\n",
    "y = df['high_comments']\n",
    "\n",
    "X_train, X_test, y_train, y_test = train_test_split(X,y)\n",
    "\n",
    "cv = CountVectorizer(stop_words='english')\n",
    "cv.fit(X_train)\n",
    "\n",
    "Xs_train = pd.DataFrame(cv.transform(X_train).todense(), columns=cv.get_feature_names())\n",
    "Xs_test = pd.DataFrame(cv.transform(X_test).todense(), columns=cv.get_feature_names())\n",
    "\n",
    "cv_rand_forest = RandomForestClassifier()\n",
    "cv_rand_forest.fit(Xs_train, y_train)\n",
    "score = cv_rand_forest.score(Xs_test, y_test)\n",
    "cvs = cross_val_score(cv_rand_forest, Xs_test, y_test, cv=5).mean()\n",
    "\n",
    "print('Baseline Accuracy:', baseline)\n",
    "print('Second Random Forest Model Score:', score)\n",
    "print('5 Folds Cross-Validation Score:', cvs)"
   ]
  },
  {
   "cell_type": "markdown",
   "metadata": {},
   "source": [
    "Using Count Vectorizer, Random Forest and title for a feature, model alone perform approximately 95% accurate on predicting high comments. After the 5 folds cross-validation, the model performance drops to approximately 84% accuracy. \n",
    "\n",
    "The model before the cross-validation performs better than the baseline accuracy by 20%. After the cross-validation, the model performs 9% better than the baseline accuracy."
   ]
  },
  {
   "cell_type": "code",
   "execution_count": 34,
   "metadata": {},
   "outputs": [
    {
     "name": "stdout",
     "output_type": "stream",
     "text": [
      "Confusion Matrix:\n",
      " [[176   2]\n",
      " [ 16  56]]\n",
      "Accuracy: 0.928\n",
      "Misclassification: 0.072\n",
      "Sensitivity 0.777777777778\n",
      "specificity 0.988764044944\n",
      "precision 0.965517241379\n"
     ]
    }
   ],
   "source": [
    "cvs_rand_preds = cv_rand_forest.predict(Xs_test)\n",
    "conf_mat(y_test, cvs_rand_preds)"
   ]
  },
  {
   "cell_type": "markdown",
   "metadata": {},
   "source": [
    "The confusion matrix for the count vectorizer with random forest model shows...\n",
    "\n",
    "- **Accuracy:** In overall, 93% correct on predicting high comments.\n",
    "\n",
    "- **Misclassification:** In overall, it is 7% wrong on predicting high comments.\n",
    "\n",
    "- **Sensitivity:** It correctly identified high comments 78% out of all true high comments.\n",
    "\n",
    "- **Specificity:** It correctly identified low comments 99% out of all true low comments.\n",
    "\n",
    "- **Precision:** It correctly identified the number of high comments 97% out of all threads that the model predicts are the high comments."
   ]
  },
  {
   "cell_type": "markdown",
   "metadata": {},
   "source": [
    "<a id='Executive Summary'></a>\n",
    "# Executive Summary\n",
    "\n",
    "**Executive Summary | What Drives High Number of Comments on Reddit?**\n",
    "\n",
    "By Jin Park 2/26/2018\n",
    "\n",
    "**Abstract:** \n",
    "\n",
    "This analysis sought to understand what type of features in Reddit post that will get the most engagement from the Reddit users. First, the analyst gathered all necessary data by web scraping the website Reddit.com. Additionally, the analyst looked at which features could bring the most engagement from the Reddit users by extracting four interesting words in the title, subreddits, time when the post was posted, and title length on average. The models showed that the best feature to use to determine the most engagement was subreddits. On the other hand, using other features only performed where the baseline result was 75%. Overall, models are more accurate on predicting the low comments than the high comments.\n",
    "\n",
    "**Introduction:**\n",
    "\n",
    "The analyst pulled all the necessary data from Reddit.com, an American social news aggregation, web content rating, and discussion online website. To pull the data, a web scraper was built using Python and BeautifulSoup library. The web scraper pulled over 40 pages that contain every 1000 results on subreddits, times, number of comments, and titles. Please note that size of this dataset is very small compared to other industrial datasets due to lack of computational power to web scrape more data. With the pulled dataset, an analysis was performed by using many different models such as Random Forest, Logistic Regression, Confusion Matrix, Grid-Search, Cross-Validation, and Count Vectorizer to predict what features determine the high comments from the Reddit users.\n",
    "\n",
    "**Methods:**\n",
    "\n",
    "All the features in the datasets are converted into binary classification problem into 1 or 0. Also, the target or the high number of comments was set by using the 75th percentile for the number of comments as a breaking point. Any comments that are higher than 401 comments were converted into 1 and anything below as 0. In addition, subreddits were converted into binary classification by converting into dummy variables. Also, four words were randomly selected by the analyst that analyst believes that it can impact on predicting the high number of comments. Moreover, time feature was also converted into a binary classification by converting all the post that was posted after 12:00 pm into 1 and others to 0. Lastly, the average length of the title feature was also converted into a binary by calculating the average length for the title, 70 characters. Any titles that were longer than 70 was converted into 1 and else 0.\n",
    "The analysts used Random Forest Model, Logistic Regression, Confusion Matrix and Count Vectorizer to model then used Grid Search and Cross Validation to reduce variance to optimize the models result. The models analyzed how the selected 4 words in title, subreddits, time posted in the noon or morning, and length of the titles on average could affect the high number of comments. \n",
    "\n",
    "**Results:**\n",
    "\n",
    "The Random Forest model that uses subreddit as a feature with 5 folds Cross-Validation performed the best out of all models for predicting the high number of comments. However, using Count Vectorizer and Random Forest model, using the title as a feature performed the best on predicting the high number of comments without performing the Cross-Validation. This may indicate that the model could be overfitted since it did not use any model optimization method to reduce variance. The features using 4 selected words, the time when the post was posted in the noon or morning, and title length on average performed only where the baseline was which is 75%. This indicates that these features do not generate any values for predicting the high number of comments since it cannot outperform the baseline accuracy. This could be due to four randomly selected words did not show up often in titles to bring any impact on the prediction. Also, time and title length do not have any relationship to predicting the high number of comments. Lastly, based on the confusion matrix results, models are better at predicting the low number of comments then the high number of comments. For example, overall models specificity score shows close to 100%.\n",
    "\n",
    "**Recommendations:**\n",
    "\n",
    "Since the dataset was too small, to avoid this problem, run web scraper each day or every other day for few weeks or months to gather enough data.  When gathering data, save each result into a csv or txt file and aggregate all gathered csv files into one file to increase the size of the data. By increasing the dataset, this will automatically increase accuracy in predicting the target value. Based on the models result, features that did not perform well on predicting the high number of comments can be used to predict low number of comments. Use this features to determine what drives the low number of comments to understand what could effect the high number of comments. \n"
   ]
  }
 ],
 "metadata": {
  "anaconda-cloud": {},
  "kernelspec": {
   "display_name": "Python 3",
   "language": "python",
   "name": "python3"
  },
  "language_info": {
   "codemirror_mode": {
    "name": "ipython",
    "version": 3
   },
   "file_extension": ".py",
   "mimetype": "text/x-python",
   "name": "python",
   "nbconvert_exporter": "python",
   "pygments_lexer": "ipython3",
   "version": "3.6.3"
  },
  "varInspector": {
   "cols": {
    "lenName": 16,
    "lenType": 16,
    "lenVar": 40
   },
   "kernels_config": {
    "python": {
     "delete_cmd_postfix": "",
     "delete_cmd_prefix": "del ",
     "library": "var_list.py",
     "varRefreshCmd": "print(var_dic_list())"
    },
    "r": {
     "delete_cmd_postfix": ") ",
     "delete_cmd_prefix": "rm(",
     "library": "var_list.r",
     "varRefreshCmd": "cat(var_dic_list()) "
    }
   },
   "types_to_exclude": [
    "module",
    "function",
    "builtin_function_or_method",
    "instance",
    "_Feature"
   ],
   "window_display": false
  }
 },
 "nbformat": 4,
 "nbformat_minor": 1
}
